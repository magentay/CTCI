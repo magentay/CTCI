{
 "cells": [
  {
   "cell_type": "markdown",
   "metadata": {
    "deletable": true,
    "editable": true
   },
   "source": [
    "# Q20.1 \n",
    "#### Write a function that adds two numbers. You should not use + or any arithmetic operators"
   ]
  },
  {
   "cell_type": "code",
   "execution_count": 1,
   "metadata": {
    "collapsed": false,
    "deletable": true,
    "editable": true
   },
   "outputs": [
    {
     "data": {
      "text/plain": [
       "89"
      ]
     },
     "execution_count": 1,
     "metadata": {},
     "output_type": "execute_result"
    }
   ],
   "source": [
    "def add_no_arithm(a,b):\n",
    "    if b==0:\n",
    "        return a\n",
    "    s = a^b  ## add without carrying\n",
    "    carry = (a&b) << 1 # carry, but don't add\n",
    "    return add_no_arithm(s,carry)\n",
    "\n",
    "add_no_arithm(34,55)"
   ]
  },
  {
   "cell_type": "markdown",
   "metadata": {
    "deletable": true,
    "editable": true
   },
   "source": [
    "# Q20.2 \n",
    "#### Write a method to shuffle a deck of cards. It must be a perfect shuffle - in other words, each 52! permutations of the deck has to be equally likely. Assume that you are given a random number generator which is perfect."
   ]
  },
  {
   "cell_type": "code",
   "execution_count": 2,
   "metadata": {
    "collapsed": false,
    "deletable": true,
    "editable": true
   },
   "outputs": [
    {
     "name": "stdout",
     "output_type": "stream",
     "text": [
      "['C11', 'D12', 'C8', 'A3', 'C7', 'D13', 'B7', 'B6', 'B11', 'D8', 'A6', 'B8', 'D5', 'A13', 'C1', 'C10', 'D1', 'C2', 'C4', 'C9', 'B12', 'B2', 'A9', 'A12', 'B1', 'B10', 'A5', 'A4', 'D9', 'A7', 'C5', 'B9', 'D2', 'A8', 'A11', 'D11', 'C12', 'A10', 'A1', 'D4', 'D3', 'C6', 'D7', 'A2', 'B13', 'D6', 'D10', 'C3', 'B3', 'B4', 'B5', 'C13']\n"
     ]
    }
   ],
   "source": [
    "import random\n",
    "def shuffleArray(cards):\n",
    "    n = len(cards)\n",
    "    for i in range(n):\n",
    "        index =int( random.random()*(n-i))+i\n",
    "        temp = cards[i]\n",
    "        cards[i] = cards[index]\n",
    "        cards[index] = temp\n",
    "    return cards\n",
    "\n",
    "cards = [ j + str(i) for i in range(1,14) for j in ['A','B','C','D']]\n",
    "\n",
    "print(shuffleArray(cards))"
   ]
  },
  {
   "cell_type": "markdown",
   "metadata": {
    "deletable": true,
    "editable": true
   },
   "source": [
    "# Q20.3\n",
    "#### Write a method to randomly generate a set of m integers from an array of size n. Each element must have equal probability of being chosen"
   ]
  },
  {
   "cell_type": "code",
   "execution_count": 3,
   "metadata": {
    "collapsed": false,
    "deletable": true,
    "editable": true
   },
   "outputs": [
    {
     "data": {
      "text/plain": [
       "[24, 23, 2]"
      ]
     },
     "execution_count": 3,
     "metadata": {},
     "output_type": "execute_result"
    }
   ],
   "source": [
    "def pickMRandomly(original, m):\n",
    "    n = len(original)\n",
    "    array = original.copy()\n",
    "    subset = [0]*m\n",
    "    for i in range(m):\n",
    "        index =int( random.random()*(n-i))+i\n",
    "        \n",
    "        subset[i]= array[index]\n",
    "        array[index] = array[i]\n",
    "        \n",
    "    return subset\n",
    "\n",
    "A =[2,4,5,6,3,23,24]\n",
    "pickMRandomly(A, 3)\n"
   ]
  },
  {
   "cell_type": "markdown",
   "metadata": {
    "deletable": true,
    "editable": true
   },
   "source": [
    "# Q20.4 \n",
    "#### Write a method to count the number of 2s between 0 and n."
   ]
  },
  {
   "cell_type": "code",
   "execution_count": 4,
   "metadata": {
    "collapsed": false,
    "deletable": true,
    "editable": true
   },
   "outputs": [
    {
     "name": "stdout",
     "output_type": "stream",
     "text": [
      "202\n",
      "138\n"
     ]
    }
   ],
   "source": [
    "# Recursive\n",
    "\n",
    "def count2sR(n):\n",
    "    countof2s = 0\n",
    "    position = 0\n",
    "    pow10_pos = 1\n",
    "    seendigit =0\n",
    "    \n",
    "    j = n\n",
    "    while j>0 :\n",
    "        digit = j%10\n",
    "        pow10_posMinus1 = pow10_pos//10\n",
    "       \n",
    "        countof2s += digit *position* pow10_posMinus1\n",
    "        \n",
    "        if digit==2:\n",
    "            seendigit += 1\n",
    "            countof2s += seendigit\n",
    "        elif digit>2:\n",
    "            countof2s += pow10_pos\n",
    "        \n",
    "        \n",
    "        seendigit  += pow10_pos *digit    \n",
    "        j=j//10\n",
    "        position +=1\n",
    "        pow10_pos *=10\n",
    "    \n",
    "    return countof2s\n",
    "\n",
    "print(count2sR(513))# f(513) = 5 * f(99) + f(13) + 100\n",
    "print(count2sR(279))# f(279) = 2 * f(99) + f(79) + 79 + 1\n",
    "\n"
   ]
  },
  {
   "cell_type": "markdown",
   "metadata": {},
   "source": [
    "# Q20.5 \n",
    "#### You have a large text file containing words. Given any two words, find the shortest distance (in terms of number of words) between them in the file. Can you make the searching operation in O(1) time? What about the space complexity for your solution?"
   ]
  },
  {
   "cell_type": "code",
   "execution_count": 5,
   "metadata": {
    "collapsed": false
   },
   "outputs": [
    {
     "data": {
      "text/plain": [
       "1"
      ]
     },
     "execution_count": 5,
     "metadata": {},
     "output_type": "execute_result"
    }
   ],
   "source": [
    "import sys\n",
    "def findshortest(words, word1, word2):\n",
    "    mindis = sys.maxsize\n",
    "    word1_pos = -mindis/2\n",
    "    word2_pos = -mindis/2\n",
    "        \n",
    "    for i in range(len(words)):\n",
    "        \n",
    "        word = words[i]\n",
    "        \n",
    "        if word == word1:\n",
    "            word1_pos = i\n",
    "            distance = word1_pos -word2_pos\n",
    "            if mindis> distance:\n",
    "                mindis = distance\n",
    "        elif word == word2:\n",
    "            word2_pos = i\n",
    "            distance = word2_pos -word1_pos\n",
    "            if mindis> distance:\n",
    "                mindis = distance\n",
    "    return mindis\n",
    "\n",
    "findshortest(['1','2','3','1','4','5','6','2','7','2'],'1','2')"
   ]
  },
  {
   "cell_type": "markdown",
   "metadata": {},
   "source": [
    "# Q20.6 \n",
    "#### Describe an algorithm to find the largest 1 million numbers in 1 billion numbers. Assume that the computer memory can hold all one billion numbers."
   ]
  },
  {
   "cell_type": "markdown",
   "metadata": {},
   "source": [
    "\n",
    "**Approach 1: Sorting**\n",
    "\n",
    "Sort the elements and then take the first million numbers from that. Complexity is O(n log n).\n",
    "\n",
    "**Approach 2: Max Heap**\n",
    "\n",
    "1. Create a Min Heap with the first million numbers.\n",
    "2. For each remaining number, insert it in the Min Heap and then delete the minimum value from the heap.\n",
    "3. The heap now contains the largest million numbers.\n",
    "4. This algorithm is O(n log m), where m is the number of values we are looking for.\n",
    "\n",
    "**Approach 3: Selection Rank Algorithm (if you can modify the original array)**\n",
    "\n",
    "1. Pick a random element in the array and use it as a ‘pivot’. Move all elements smaller than that element to one side of the array, and all elements larger to the other side.\n",
    "2. If there are exactly i elements on the right, then you just find the smallest element on that side.\n",
    "3. Otherwise, if the right side is bigger than i, repeat the algorithm on the right. If the right side is smaller than i, repeat the algorithm on the left for i – right.size().\n",
    "\n",
    "This algorithm has expected O(n) time."
   ]
  },
  {
   "cell_type": "markdown",
   "metadata": {},
   "source": [
    "# Q20.7 \n",
    "#### Write a program to find the longest word made of other words."
   ]
  },
  {
   "cell_type": "markdown",
   "metadata": {},
   "source": [
    "1. Sort the array by size, putting the longest word at the front\n",
    "2. For each word, split it in all possible ways. That is, for “test”, split it into {“t”, “est”}, {“te”, “st”} and {“tes”, “t”}.\n",
    "3. Then, for each pairing, check if the first half and the second both exist elsewhere in the array.\n",
    "4. “Short circuit” by returning the first string we find that fits condition #3.\n",
    "\n",
    "Total complexity: O(n log n + n * d). <br/>\n",
    "Space complexity: O(n). <br/>\n"
   ]
  },
  {
   "cell_type": "markdown",
   "metadata": {},
   "source": [
    "# Q20.8 \n",
    "#### Given a string s and an array of smaller strings T, design a method to search s for each small string in T."
   ]
  },
  {
   "cell_type": "code",
   "execution_count": 6,
   "metadata": {
    "collapsed": false
   },
   "outputs": [
    {
     "name": "stdout",
     "output_type": "stream",
     "text": [
      "is [1, 4]\n",
      "sip [6]\n",
      "hi not exist\n",
      "sis [3]\n"
     ]
    }
   ],
   "source": [
    "class SuffixTree:\n",
    "    def __init__(self, s):\n",
    "        \n",
    "        self.root = SuffixTreeNode()\n",
    "        for i in range( len(s) ):\n",
    "            self.root.insertString(s[i:], i)\n",
    "            \n",
    "    def getIndexes(self,s):\n",
    "        return self.root.getIndexes(s)\n",
    "            \n",
    "class SuffixTreeNode:\n",
    "    \n",
    "    def __init__(self):\n",
    "        self.value = \"\"\n",
    "        self.indexes = []\n",
    "        self.children = {}\n",
    "    \n",
    "    \n",
    "    def insertString(self,s, index):\n",
    "        self.indexes.append(index)\n",
    "\n",
    "        if s !=\"\" and len(s)>0:\n",
    "            self.value = s[0]\n",
    "            child = SuffixTreeNode()\n",
    "            if self.value in self.children:\n",
    "                child = self.children[self.value]\n",
    "            else:\n",
    "                self.children[self.value] = child\n",
    "            \n",
    "            remainder = s[1:]\n",
    "            child.insertString(remainder, index)\n",
    "                \n",
    "        \n",
    "        \n",
    "    def getIndexes(self,s):\n",
    "        if s==\"\" or len(s)==0:\n",
    "            return self.indexes\n",
    "        \n",
    "        else:\n",
    "            first = s[0]\n",
    "            if first in self.children:\n",
    "                remainder = s[1:]\n",
    "                return self.children[first].getIndexes(remainder)\n",
    "        return \"not exist\"\n",
    "        \n",
    "        \n",
    "        \n",
    "    \n",
    "testString = \"mississippi\"\n",
    "stringlist = [\"is\", \"sip\", \"hi\", \"sis\"]\n",
    "tree = SuffixTree(testString)\n",
    "for s in stringlist:\n",
    "    l = tree.getIndexes(s)\n",
    "    print(s, l)\n"
   ]
  },
  {
   "cell_type": "markdown",
   "metadata": {},
   "source": [
    "# Q20.9 \n",
    "#### Numbers are randomly generated and passed to a method. Write a program to find and maintain the median value as new values are generated."
   ]
  },
  {
   "cell_type": "code",
   "execution_count": 7,
   "metadata": {
    "collapsed": false
   },
   "outputs": [
    {
     "data": {
      "text/plain": [
       "10"
      ]
     },
     "execution_count": 7,
     "metadata": {},
     "output_type": "execute_result"
    }
   ],
   "source": [
    "# One solution is to use two priority heaps: a max heap for the values below the median, \n",
    "# and a min heap for the values above the median. The median will be largest value of the max heap.\n",
    "import heapq\n",
    "class MedianGenerator:\n",
    "    def __init__(self):\n",
    "        self.max_heap = [] # the left half\n",
    "        self.min_heap = [] # the right half\n",
    "        \n",
    "    def addNewNumber(self, num):\n",
    "        left = len(self.max_heap) \n",
    "        right = len(self.min_heap)\n",
    "        \n",
    "        if left ==0 and right == 0:\n",
    "            heapq.heappush(self.max_heap, -num)\n",
    "            return\n",
    "        \n",
    "        if self.max_heap:\n",
    "            left_val = -self.max_heap[0]\n",
    "        if self.min_heap:\n",
    "            right_val = -self.min_heap[0]\n",
    "        else:\n",
    "            right_val = left_val\n",
    "            \n",
    "        if right == left:\n",
    "            if num <= left_val:\n",
    "                heapq.heappush(self.max_heap, -num)\n",
    "                \n",
    "            else:\n",
    "                heapq.heappush(self.min_heap, num)\n",
    "                \n",
    "        elif right> left:\n",
    "            if num >= left_val:\n",
    "                heapq.heappush(self.min_heap, num)\n",
    "                tmp = heapq.heappop(self.min_heap)\n",
    "                heapq.heappush(self.max_heap, -tmp)\n",
    "            else:\n",
    "                heapq.heappush(self.max_heap,-num)\n",
    "        else:\n",
    "            if num >= left_val:\n",
    "                heapq.heappush(self.min_heap, num)\n",
    "            else:\n",
    "                \n",
    "                heapq.heappush(self.max_heap,-num)\n",
    "                tmp = -heapq.heappop(self.max_heap)\n",
    "                heapq.heappush(self.min_heap, tmp)\n",
    "\n",
    "    def getMedian(self):\n",
    "        left = len(self.max_heap)\n",
    "        right = len(self.min_heap)\n",
    "        \n",
    "        if left == right :\n",
    "            return (-self.max_heap[0] + self.min_heap[0])/2\n",
    "        elif left > right:\n",
    "            return -self.max_heap[0]\n",
    "        else:\n",
    "            return self.min_heap[0]\n",
    "        \n",
    "\n",
    "g = MedianGenerator()\n",
    "L = [2,4,62,6,3,62,45,62,4,6,4,6,2]\n",
    "L = list(range(21))\n",
    "\n",
    "for i in L:\n",
    "    g.addNewNumber(i)\n",
    "g.getMedian()\n",
    "        \n",
    "    "
   ]
  },
  {
   "cell_type": "markdown",
   "metadata": {},
   "source": [
    "# Q20.10 \n",
    "#### Given two words of equal length that are in a dictionary, write a method to transform one word into another word by changing only one letter at a time. The new word you get in each step must be in the dictionary.\n",
    "\n",
    "EXAMPLE:<br/>\n",
    "Input: DAMP, LIKE<br/>\n",
    "Output: DAMP -> LAMP -> LIMP -> LIME -> LIKE<br/>"
   ]
  },
  {
   "cell_type": "code",
   "execution_count": 8,
   "metadata": {
    "collapsed": false
   },
   "outputs": [
    {
     "data": {
      "text/plain": [
       "['DAMP', 'DAME', 'DIME', 'LIME', 'LIKE']"
      ]
     },
     "execution_count": 8,
     "metadata": {},
     "output_type": "execute_result"
    }
   ],
   "source": [
    "# The runtime of this algorithm is O(n*m)\n",
    "\n",
    "dictionary = set(x.strip().upper() for x in open('/data/words.txt'))\n",
    "\n",
    "def transform(startword, stopword, dictionary):\n",
    "    startword = startword.upper()\n",
    "    stopword = stopword.upper()\n",
    "    \n",
    "    actionQueue = []\n",
    "    visitedSet = set()\n",
    "    backtrackMap = {}\n",
    "    \n",
    "    actionQueue.append(startword)\n",
    "    visitedSet.add(startword)\n",
    "    \n",
    "    while actionQueue:\n",
    "        w = actionQueue.pop(0)\n",
    "        for v in getOneEditWords(w, dictionary):\n",
    "            if v == stopword:\n",
    "#                 print(backtrackMap)\n",
    "#                 print(visitedSet)\n",
    "#                 return\n",
    "                l = []\n",
    "                l.append(v)\n",
    "                while w!=startword:\n",
    "                    l.insert(0, w)\n",
    "                    w = backtrackMap[w]\n",
    "                l.insert(0, startword)    \n",
    "                return l\n",
    "            \n",
    "            if v not in visitedSet:\n",
    "                actionQueue.append(v)\n",
    "                visitedSet.add(v)\n",
    "                backtrackMap[v] = w\n",
    "    return \"not found\"\n",
    "        \n",
    "def getOneEditWords(word, dictionary):\n",
    "    words = set()\n",
    "    \n",
    "    for ii in range(len(word)):\n",
    "        newword = list(word)\n",
    "        for i in range(ord('A'), ord('Z')+1):\n",
    "            c = chr(i)\n",
    "            if c!=word[ii]:\n",
    "                newword[ii] = c\n",
    "                \n",
    "                newword0 = \"\".join(newword)\n",
    "                if newword0 in dictionary:\n",
    "                    words.add(newword0)\n",
    "            \n",
    "    return words\n",
    "                \n",
    "transform('DAMP', \"LIKE\",dictionary)  \n",
    "# getOneEditWords(\"DAMP\", dictionary)"
   ]
  },
  {
   "cell_type": "markdown",
   "metadata": {},
   "source": [
    "# Q20.11 \n",
    "#### Imagine you have a square matrix, where each cell is filled with either black or white. Design an algorithm to find the maximum subsquare such that all four borders are filled with black pixels."
   ]
  },
  {
   "cell_type": "markdown",
   "metadata": {},
   "source": [
    "Assumption: Square is of size NxN.<br/>\n",
    "This algorithm does the following:<br/>\n",
    "1. Iterate through every (full) column from left to right.\n",
    "2. At each (full) column (call this currentColumn), look at the subcolumns (from biggest to smallest).\n",
    "3. At each subcolumn, see if you can form a square with the subcolumn as the left side. If so, update currentMaxSize and go to the next (full) column.\n",
    "4. If N - currentColumn <= currentMaxSize, then break completely. We’ve found the largest square possible. Why? At each column, we’re trying to create a square with that column as the left side. The largest such square we could possibly create is N - currentColumn. Thus, if N-currentColumn <= currentMaxSize, then we have no need to proceed.<br/>\n",
    "\n",
    "Time complexity: O(N^2)."
   ]
  },
  {
   "cell_type": "code",
   "execution_count": 9,
   "metadata": {
    "collapsed": false
   },
   "outputs": [
    {
     "data": {
      "text/plain": [
       "[[1, 1, 1], [1, 1, 1], [1, 1, 1]]"
      ]
     },
     "execution_count": 9,
     "metadata": {},
     "output_type": "execute_result"
    }
   ],
   "source": [
    "def findSquare(matrix):\n",
    "    \n",
    "    N = len(matrix)\n",
    "    \n",
    "    currentMaxSize = 0\n",
    "    col = 0\n",
    "    while(N-col > currentMaxSize):\n",
    "        for row in range(N):\n",
    "            size = N - max(row, col)\n",
    "            while size > currentMaxSize:\n",
    "                if isSquare(matrix, row, col, size):\n",
    "                    currentMaxSize = size\n",
    "                    sq = Subsquare(matrix, row, col, size)\n",
    "                    break\n",
    "            \n",
    "                size -=1\n",
    "        col += 1\n",
    "        \n",
    "    return sq\n",
    "        \n",
    "def isSquare(matrix, row, col, size):\n",
    "    for j in range(size):\n",
    "        if matrix[row][col+j] ==0:\n",
    "            return False\n",
    "        if matrix[row+size-1][col+j] ==0:\n",
    "            return False\n",
    "    \n",
    "    for i in range(size):\n",
    "        if matrix[row+i][col] ==0:\n",
    "            return False\n",
    "        if matrix[row+i][col+size-1] ==0:\n",
    "            return False\n",
    "    return True\n",
    "\n",
    "def Subsquare(matrix,row, col, size):\n",
    "    sb = []\n",
    "    for i in range(size):\n",
    "        sb.append(matrix[row+i][col:col+size])\n",
    "    return sb\n",
    "            \n",
    "        \n",
    "        \n",
    "        \n",
    "matrix =  [[0, 1, 1, 0, 1], \n",
    "           [1, 1, 0, 1, 0], \n",
    "           [0, 1, 1, 1, 0],\n",
    "           [1, 1, 1, 1, 0],\n",
    "           [1, 1, 1, 1, 1],\n",
    "           [0, 0, 0, 0, 0]];\n",
    "findSquare(matrix)\n"
   ]
  },
  {
   "cell_type": "markdown",
   "metadata": {},
   "source": [
    "# Q20.12\n",
    "#### Given an NxN matrix of positive and negative integers, write code to find the sub-matrix with the largest possible sum."
   ]
  },
  {
   "cell_type": "code",
   "execution_count": 10,
   "metadata": {
    "collapsed": false
   },
   "outputs": [
    {
     "data": {
      "text/plain": [
       "29"
      ]
     },
     "execution_count": 10,
     "metadata": {},
     "output_type": "execute_result"
    }
   ],
   "source": [
    "import sys\n",
    "def getMaxMatrix(matrix):\n",
    "    maxArea = -sys.maxsize\n",
    "    rowCount = len(matrix)\n",
    "    colCount = len(matrix[0])\n",
    "    \n",
    "    sumMatrix = precomputMatrix(matrix)\n",
    "    # print(sumMatrix)\n",
    "    \n",
    "    for row1 in range(rowCount):\n",
    "        for row2 in range(row1, rowCount):\n",
    "            for col1 in range(colCount):\n",
    "                for col2 in range(col1,colCount):\n",
    "                    maxArea = max(maxArea, computeSum(sumMatrix, row1,row2,col1,col2))\n",
    "    return maxArea\n",
    "    \n",
    "def precomputMatrix(matrix):\n",
    "    sumMatrix = [ [0] * len(matrix[0]) for _ in range(len(matrix))]\n",
    "\n",
    "    for i in range(len(matrix)):\n",
    "        for j in range(len(matrix[0])):\n",
    "            if i==0 and j==0:\n",
    "                sumMatrix[i][j] = matrix[i][j]\n",
    "            elif j==0:\n",
    "                sumMatrix[i][j] = matrix[i][j] + sumMatrix[i-1][j]\n",
    "            elif i == 0:\n",
    "                sumMatrix[i][j] = matrix[i][j] + sumMatrix[i][j-1]\n",
    "            else:\n",
    "                sumMatrix[i][j] = matrix[i][j] + sumMatrix[i][j-1] + sumMatrix[i-1][j] - sumMatrix[i-1][j-1]\n",
    "            # print(i,j, sumMatrix)\n",
    "\n",
    "    return sumMatrix\n",
    "    \n",
    "def computeSum(sumMatrix, i1,i2,j1,j2):\n",
    "    if i1 == 0 and j1== 0:\n",
    "        return sumMatrix[i2][j2]\n",
    "    elif i1 == 0:\n",
    "        return sumMatrix[i2][j2] -sumMatrix[i2][j1-1]\n",
    "    elif j1 == 0:\n",
    "        return sumMatrix[i2][j2] - sumMatrix[i1-1][j2]\n",
    "    else:\n",
    "        return sumMatrix[i2][j2] - sumMatrix[i2][j1-1] -sumMatrix[i1-1][j2] + sumMatrix[i1-1][j1-1]\n",
    "\n",
    "\n",
    "\n",
    "matrix=[[1, 2, -1, -4, -20],\n",
    "        [-8, -3, 4, 2, 1], \n",
    "        [3, 8, 10, 1, 3],\n",
    "        [-4, -1, 1, 7, -6]]\n",
    "\n",
    "getMaxMatrix(matrix)"
   ]
  },
  {
   "cell_type": "markdown",
   "metadata": {},
   "source": [
    "# Q20.13\n",
    "#### Given a dictionary of millions of words, give an algorithm to find the largest possible rectangle of letters such that every row forms a word (reading left to right) and every column forms a word (reading top to bottom)."
   ]
  },
  {
   "cell_type": "code",
   "execution_count": null,
   "metadata": {
    "collapsed": true
   },
   "outputs": [],
   "source": []
  }
 ],
 "metadata": {
  "kernelspec": {
   "display_name": "Python 3",
   "language": "python",
   "name": "python3"
  },
  "language_info": {
   "codemirror_mode": {
    "name": "ipython",
    "version": 3
   },
   "file_extension": ".py",
   "mimetype": "text/x-python",
   "name": "python",
   "nbconvert_exporter": "python",
   "pygments_lexer": "ipython3",
   "version": "3.5.2"
  }
 },
 "nbformat": 4,
 "nbformat_minor": 2
}
