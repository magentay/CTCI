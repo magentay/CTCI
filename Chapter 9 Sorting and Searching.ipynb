{
 "cells": [
  {
   "cell_type": "markdown",
   "metadata": {},
   "source": [
    "# Q9.1 \n",
    "#### You are given two sorted arrays, A and B, and A has a large enough buffer at the end to hold B. Write a method to merge B into A in sorted order."
   ]
  },
  {
   "cell_type": "code",
   "execution_count": 1,
   "metadata": {
    "collapsed": true
   },
   "outputs": [],
   "source": [
    "# merge A and B from the back, by comparing each element.\n",
    "def merge(A, B):\n",
    "    n = len(A)\n",
    "    m = len(B)\n",
    "    \n",
    "    A = A+ [0]*m\n",
    "    \n",
    "    k = m + n - 1\n",
    "    i = n - 1\n",
    "    j = m -1\n",
    "    \n",
    "    while i>=0 and j >=0:\n",
    "        if A[i] > B[j]:\n",
    "            A[k] = A[i]\n",
    "            k -= 1\n",
    "            i -= 1\n",
    "        else:\n",
    "            A[k] = B[j]\n",
    "            k -= 1\n",
    "            j -= 1\n",
    "    \n",
    "    while j>=0:\n",
    "        A[k] = B[j]\n",
    "        k -= 1\n",
    "        j -= 1\n",
    "        \n",
    "    return A\n",
    "            \n",
    "    "
   ]
  },
  {
   "cell_type": "code",
   "execution_count": 2,
   "metadata": {
    "collapsed": false
   },
   "outputs": [
    {
     "data": {
      "text/plain": [
       "[2, 3, 4, 5, 6, 7]"
      ]
     },
     "execution_count": 2,
     "metadata": {},
     "output_type": "execute_result"
    }
   ],
   "source": [
    "A = [2,4,5,6]\n",
    "B = [3,7]\n",
    "merge(A,B)"
   ]
  },
  {
   "cell_type": "markdown",
   "metadata": {},
   "source": [
    "# Q9.2 \n",
    "#### Write a method to sort an array of strings so that all the anagrams are next to each other."
   ]
  },
  {
   "cell_type": "code",
   "execution_count": 3,
   "metadata": {
    "collapsed": true
   },
   "outputs": [],
   "source": [
    "def sortAnagrams(strings):\n",
    "    chardic = {}\n",
    "    for string in strings:\n",
    "        key = \"\".join(sorted(list(string)))\n",
    "        if key in chardic:\n",
    "            chardic[key].append(string)\n",
    "        else:\n",
    "            chardic[key] = [string]\n",
    "    \n",
    "    newlist = []\n",
    "    for key in sorted(list(chardic.keys())):\n",
    "        newlist += sorted(chardic[key])\n",
    "    \n",
    "    return newlist   "
   ]
  },
  {
   "cell_type": "code",
   "execution_count": 4,
   "metadata": {
    "collapsed": false
   },
   "outputs": [
    {
     "data": {
      "text/plain": [
       "['aab', 'aba', 'baa', 'acd', 'cda', 'def', 'fed']"
      ]
     },
     "execution_count": 4,
     "metadata": {},
     "output_type": "execute_result"
    }
   ],
   "source": [
    "strings = ['def','aab','aba','fed','baa','cda','acd']\n",
    "sortAnagrams(strings)"
   ]
  },
  {
   "cell_type": "code",
   "execution_count": 5,
   "metadata": {
    "collapsed": false
   },
   "outputs": [
    {
     "data": {
      "text/plain": [
       "['aab', 'aba', 'baa', 'acd', 'cda', 'def', 'fed']"
      ]
     },
     "execution_count": 5,
     "metadata": {},
     "output_type": "execute_result"
    }
   ],
   "source": [
    "def mykey(x):\n",
    "    return sorted(list(x)), x\n",
    "                  \n",
    "sorted(strings, key=mykey)"
   ]
  },
  {
   "cell_type": "markdown",
   "metadata": {},
   "source": [
    "# 9.3 \n",
    "#### Given a sorted array of n integers that has been rotated an unknown number of times, give an O(log n) algorithm that finds an element in the array. You may assume that the array was originally sorted in increasing order.\n",
    "EXAMPLE:  <br/>\n",
    "Input: find 5 in array (15 16 19 20 25 1 3 4 5 7 10 14)<br/>\n",
    "Output: 8 (the index of 5 in the array)"
   ]
  },
  {
   "cell_type": "code",
   "execution_count": 6,
   "metadata": {
    "collapsed": true
   },
   "outputs": [],
   "source": [
    "def search(A, start, end, x):\n",
    "    while start < end:\n",
    "        mid = (start+end)//2       \n",
    "        if x == A[mid]:\n",
    "            return mid\n",
    "        elif A[start] <= A[mid]:\n",
    "            if x > A[mid]:\n",
    "                start = mid +1\n",
    "            elif x > A[start]:\n",
    "                end = mid -1\n",
    "            else:\n",
    "                start = mid+1\n",
    "        elif x<A[mid]:\n",
    "            end = mid -1\n",
    "        elif x <= A[end]:\n",
    "            start = mid+1\n",
    "        else:\n",
    "            end = mid -1\n",
    "    \n",
    "    return -1\n",
    "        "
   ]
  },
  {
   "cell_type": "code",
   "execution_count": 7,
   "metadata": {
    "collapsed": false
   },
   "outputs": [
    {
     "data": {
      "text/plain": [
       "8"
      ]
     },
     "execution_count": 7,
     "metadata": {},
     "output_type": "execute_result"
    }
   ],
   "source": [
    "A = [15, 16, 19, 20, 25, 1, 3, 4, 5, 7, 10, 14]\n",
    "search(A,0,11,5)"
   ]
  },
  {
   "cell_type": "code",
   "execution_count": 8,
   "metadata": {
    "collapsed": false
   },
   "outputs": [
    {
     "data": {
      "text/plain": [
       "8"
      ]
     },
     "execution_count": 8,
     "metadata": {},
     "output_type": "execute_result"
    }
   ],
   "source": [
    "def search2(A, start, end, x):\n",
    "    if start>end :\n",
    "        return -1\n",
    "    \n",
    "    mid = (start+end)//2   \n",
    "    if x == A[mid]:\n",
    "        return mid\n",
    "    \n",
    "    elif A[start] <= A[mid]:\n",
    "        if x > A[mid]:\n",
    "            return search2(A, mid+1, end, x)\n",
    "        elif x > A[start]:\n",
    "            return search2(A, start, mid-1, x)\n",
    "        else:\n",
    "            return search2(A, mid+1, end, x)\n",
    "    elif x<A[mid]:\n",
    "        return search2(A, start, mid-1, x)\n",
    "    elif x<= A[end]:\n",
    "        return search2(A, mid+1, end, x)\n",
    "    else:\n",
    "        return search2(A, start, mid-1, x)\n",
    "        \n",
    "    \n",
    "search2(A,0,11,5)    \n",
    "        "
   ]
  },
  {
   "cell_type": "markdown",
   "metadata": {},
   "source": [
    "# Q9.4\n",
    "#### If you have a 2 GB file with one string per line, which sorting algorithm would you use to sort the file and why?"
   ]
  },
  {
   "cell_type": "markdown",
   "metadata": {},
   "source": [
    "How much memory do we have available? Let’s assume we have X MB of memory available.<br/>\n",
    "1. Divide the file into K chunks, where X * K = 2 GB. Bring each chunk into memory and sort the lines as usual using any O(n log n) algorithm. Save the lines back to the file.<br/>\n",
    "2. Now bring the next chunk into memory and sort.<br/>\n",
    "3. Once we’re done, merge them one by one.<br/>\n",
    "The above algorithm is also known as external sort. Step 3 is known as N-way merge"
   ]
  },
  {
   "cell_type": "markdown",
   "metadata": {},
   "source": [
    "# Q9.5\n",
    "#### Given a sorted array of strings which is interspersed with empty strings, write a method to find the location of a given string.\n",
    "Example: find “ball” in [“at”, “”, “”, “”, “ball”, “”, “”, “car”, “”, “”, “dad”, “”, “”] will return 4 <br/>\n",
    "Example: find “ballcar” in [“at”, “”, “”, “”, “”, “ball”, “car”, “”, “”, “dad”, “”, “”] will return -1 <br/>"
   ]
  },
  {
   "cell_type": "code",
   "execution_count": 9,
   "metadata": {
    "collapsed": false
   },
   "outputs": [],
   "source": [
    "# Use ordinary binary search, but when you hit an empty string,\n",
    "# advance to the next non-empty string; if there is no next non-empty string, search the left half.\n",
    "\n",
    "def searchString0(strings, x , start, end):\n",
    "    while start <= end:\n",
    "        while start <= end and strings[end] ==\"\":\n",
    "            end -=1\n",
    "        if end < start:\n",
    "            return -1\n",
    "        \n",
    "        mid = (start+end)//2\n",
    "        \n",
    "        while strings[mid] == \"\":\n",
    "            mid +=1\n",
    "        \n",
    "        if strings[mid] == x :\n",
    "            return mid\n",
    "        elif strings[mid]>x:\n",
    "            end = mid -1\n",
    "        else:\n",
    "            start = mid+1\n",
    "    return -1\n",
    "            \n",
    "def searchString(strings, x):\n",
    "    if not strings or not x :\n",
    "        return -1\n",
    "    if x == \"\":\n",
    "        for i in len(strings):\n",
    "            if strings[i] == i:\n",
    "                return i\n",
    "        return -1\n",
    "    \n",
    "    return searchString0(strings, x, 0, len(strings)-1)\n",
    "        "
   ]
  },
  {
   "cell_type": "code",
   "execution_count": 10,
   "metadata": {
    "collapsed": false
   },
   "outputs": [
    {
     "data": {
      "text/plain": [
       "4"
      ]
     },
     "execution_count": 10,
     "metadata": {},
     "output_type": "execute_result"
    }
   ],
   "source": [
    "str1 =  [\"at\", \"\",\"\" ,\"\" , \"ball\", \"\", \"\", \"car\", \"\",\"\", \"dad\", \"\", \"\"]\n",
    "searchString(str1,'ball')"
   ]
  },
  {
   "cell_type": "code",
   "execution_count": 11,
   "metadata": {
    "collapsed": false
   },
   "outputs": [
    {
     "data": {
      "text/plain": [
       "-1"
      ]
     },
     "execution_count": 11,
     "metadata": {},
     "output_type": "execute_result"
    }
   ],
   "source": [
    "str2 =  [\"at\", \"\", \"\", \"\", \"\", \"ball\", \"car\", \"\", \"\", \"dad\", \"\", \"\"] \n",
    "searchString(str2, \"ballcar\")"
   ]
  },
  {
   "cell_type": "markdown",
   "metadata": {},
   "source": [
    "# 9.6\n",
    "#### Given a matrix in which each row and each column is sorted, write a method to find an element in it."
   ]
  },
  {
   "cell_type": "code",
   "execution_count": 12,
   "metadata": {
    "collapsed": true
   },
   "outputs": [],
   "source": [
    "# This algorithm works by elimination. \n",
    "# Every move to the left (--col) eliminates all the elements below the current cell in that column. \n",
    "# Likewise, every move down eliminates all the elements to the left of the cell in that row.\n",
    "\n",
    "def findElem(A, x, N,M):\n",
    "    row  = 0 \n",
    "    col = M-1\n",
    "    \n",
    "    while row < N and col >=0:\n",
    "        if A[row][col] == x:\n",
    "            return 1\n",
    "        elif A[row][col]>x:\n",
    "            col -= 1\n",
    "        else:\n",
    "            row += 1\n",
    "    \n",
    "    return 0"
   ]
  },
  {
   "cell_type": "code",
   "execution_count": 13,
   "metadata": {
    "collapsed": false
   },
   "outputs": [
    {
     "data": {
      "text/plain": [
       "1"
      ]
     },
     "execution_count": 13,
     "metadata": {},
     "output_type": "execute_result"
    }
   ],
   "source": [
    "A = [[3, 30, 38], [44, 52, 54], [57, 60, 69]]\n",
    "findElem(A, 54 , 3,3)"
   ]
  },
  {
   "cell_type": "markdown",
   "metadata": {},
   "source": [
    "# Q9.7 \n",
    "#### A circus is designing a tower routine consisting of people standing atop one another’s shoulders. For practical and aesthetic reasons, each person must be both shorter and lighter than the person below him or her. Given the heights and weights of each person in the circus, write a method to compute the largest possible number of people in such a tower.\n",
    "EXAMPLE: <br/>\n",
    "Input (ht, wt): (65, 100) (70, 150) (56, 90) (75, 190) (60, 95) (68, 110)<br/>\n",
    "Output: The longest tower is length 6 and includes from top to bottom: (56, 90) (60,95) (65,100) (68,110) (70,150) (75,190) <br/>"
   ]
  },
  {
   "cell_type": "code",
   "execution_count": 14,
   "metadata": {
    "collapsed": true
   },
   "outputs": [],
   "source": [
    "def maxStack(A):\n",
    "    n = len(A)\n",
    "    A = sorted(A)\n",
    "    print(A)\n",
    "    lis = [1]*n\n",
    "    \n",
    "    # Longest Increasing Subsequence\n",
    "    maximun = 0\n",
    "    for i in range(1,n):\n",
    "        for j in range(0,i):\n",
    "            if A[i][0]>A[j][0] and A[i][1]>A[j][1] and lis[i]<lis[j]+1:\n",
    "                lis[i] = lis[j]+1\n",
    "                if lis[i]>maximun:\n",
    "                    maximun = lis[i]\n",
    "                    \n",
    "    return maximun\n",
    "            "
   ]
  },
  {
   "cell_type": "code",
   "execution_count": 15,
   "metadata": {
    "collapsed": false
   },
   "outputs": [
    {
     "name": "stdout",
     "output_type": "stream",
     "text": [
      "[(56, 90), (60, 95), (65, 100), (68, 110), (70, 150), (75, 190)]\n"
     ]
    },
    {
     "data": {
      "text/plain": [
       "6"
      ]
     },
     "execution_count": 15,
     "metadata": {},
     "output_type": "execute_result"
    }
   ],
   "source": [
    "A = [(65, 100), (70, 150), (56, 90), (75, 190), (60, 95), (68, 110)]\n",
    "maxStack(A)"
   ]
  }
 ],
 "metadata": {
  "kernelspec": {
   "display_name": "Python 3",
   "language": "python",
   "name": "python3"
  },
  "language_info": {
   "codemirror_mode": {
    "name": "ipython",
    "version": 3
   },
   "file_extension": ".py",
   "mimetype": "text/x-python",
   "name": "python",
   "nbconvert_exporter": "python",
   "pygments_lexer": "ipython3",
   "version": "3.5.2"
  }
 },
 "nbformat": 4,
 "nbformat_minor": 2
}
