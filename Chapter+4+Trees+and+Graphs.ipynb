{
 "cells": [
  {
   "cell_type": "markdown",
   "metadata": {
    "deletable": true,
    "editable": true
   },
   "source": [
    "# Binary Trees—”Must Know” Algorithms\n",
    "\n",
    "**In-Order:** Traverse left node, current node, then right [usually used for binary search trees <br/>\n",
    "**Pre-Order:** Traverse current node, then left node, then right node. <br/>\n",
    "**Post-Order:** Traverse left node, then right node, then current node. <br/>\n",
    "**Insert Node:** On a binary search tree, we insert a value v, by comparing it to the root. If v > root, we go right, and else we go left. We do this until we hit an empty spot in the tree. "
   ]
  },
  {
   "cell_type": "code",
   "execution_count": 1,
   "metadata": {
    "collapsed": false,
    "deletable": true,
    "editable": true
   },
   "outputs": [
    {
     "name": "stdout",
     "output_type": "stream",
     "text": [
      "[3, 5, 8, 9, 10]\n",
      "[5, 3, 8, 9, 10]\n",
      "[3, 8, 9, 10, 5]\n"
     ]
    }
   ],
   "source": [
    "class Node:\n",
    "    def __init__(self, val):\n",
    "        self.val = val\n",
    "        self.leftchild = None\n",
    "        self.rightchild = None\n",
    "        \n",
    "    def __str__(self):\n",
    "        return str(self.val)\n",
    "    \n",
    "    \n",
    "\n",
    "class BST:\n",
    "    def __init__(self):\n",
    "        self.root = None\n",
    "        \n",
    "    def insert(self, node):\n",
    "        if self.root is None:\n",
    "            self.root = node\n",
    "#             print(self.root)\n",
    "        else:\n",
    "            current = self.root\n",
    "            while 1:\n",
    "                if current.val >= node.val:\n",
    "                    if current.leftchild is None:\n",
    "                        current.leftchild = node\n",
    "                        break\n",
    "                    else:\n",
    "                        current = current.leftchild\n",
    "                else:\n",
    "                    if current.rightchild is None:\n",
    "                        current.rightchild = node\n",
    "                        break\n",
    "                    else:\n",
    "                        current = current.rightchild\n",
    "                     \n",
    " \n",
    "    def insertValue(self, val):\n",
    "        node = Node(val)\n",
    "        self.insert(node) \n",
    "        \n",
    "    def inorder_traversal(self):\n",
    "        L = []\n",
    "        self.__inorder_traversal(self.root, L)\n",
    "        return L\n",
    "\n",
    "\n",
    "    def __inorder_traversal(self, p, L):\n",
    "        if p is not None:\n",
    "            self.__inorder_traversal(p.leftchild, L)\n",
    "            L.append(p.val)\n",
    "            self.__inorder_traversal(p.rightchild, L)\n",
    "        \n",
    "\n",
    "    def preorder_traversal(self):\n",
    "        L = []\n",
    "        self.__preorder_traversal(self.root, L)\n",
    "        return L\n",
    "\n",
    "\n",
    "    def __preorder_traversal(self, p, L):\n",
    "        if p is not None:\n",
    "            L.append(p.val)\n",
    "            self.__inorder_traversal(p.leftchild, L)\n",
    "            self.__inorder_traversal(p.rightchild, L)\n",
    "    def postorder_traversal(self):\n",
    "        L = []\n",
    "        self.__postorder_traversal(self.root, L)\n",
    "        return L\n",
    "\n",
    "\n",
    "    def __postorder_traversal(self, p, L):\n",
    "        if p is not None:\n",
    "            self.__inorder_traversal(p.leftchild, L)\n",
    "            self.__inorder_traversal(p.rightchild, L)\n",
    "            L.append(p.val)\n",
    "        \n",
    "             \n",
    "        \n",
    "bst = BST()\n",
    "bst.insertValue(5)\n",
    "bst.insertValue(8)\n",
    "bst.insertValue(9)\n",
    "bst.insertValue(10)\n",
    "bst.insertValue(3)\n",
    "print(bst.inorder_traversal())\n",
    "print(bst.preorder_traversal())\n",
    "print(bst.postorder_traversal())"
   ]
  },
  {
   "cell_type": "code",
   "execution_count": 2,
   "metadata": {
    "collapsed": false,
    "deletable": true,
    "editable": true
   },
   "outputs": [
    {
     "name": "stdout",
     "output_type": "stream",
     "text": [
      "in order:\n",
      "1\n",
      "3\n",
      "5\n",
      "7\n",
      "pre order\n",
      "3\n",
      "1\n",
      "7\n",
      "5\n"
     ]
    }
   ],
   "source": [
    "class Node:\n",
    "    def __init__(self, val):\n",
    "        self.leftchild = None\n",
    "        self.rightchild = None\n",
    "        self.val = val\n",
    "\n",
    "def binary_insert(root, node):\n",
    "    if root is None:\n",
    "        root = node\n",
    "    else:\n",
    "        if root.val > node.val:\n",
    "            if root.leftchild is None:\n",
    "                root.leftchild = node\n",
    "            else:\n",
    "                binary_insert(root.leftchild, node)\n",
    "        else:\n",
    "            if root.rightchild is None:\n",
    "                root.rightchild = node\n",
    "            else:\n",
    "                binary_insert(root.rightchild, node)\n",
    "\n",
    "def in_order_print(root):\n",
    "    if not root:\n",
    "        return\n",
    "    in_order_print(root.leftchild)\n",
    "    print (root.val)\n",
    "    in_order_print(root.rightchild)\n",
    "\n",
    "def pre_order_print(root):\n",
    "    if not root:\n",
    "        return        \n",
    "    print (root.val)\n",
    "    pre_order_print(root.leftchild)\n",
    "    pre_order_print(root.rightchild) \n",
    "    \n",
    "    \n",
    "r = Node(3)\n",
    "binary_insert(r, Node(7))\n",
    "binary_insert(r, Node(1))\n",
    "binary_insert(r, Node(5))\n",
    "\n",
    "print (\"in order:\")\n",
    "in_order_print(r)\n",
    "\n",
    "print (\"pre order\")\n",
    "pre_order_print(r)"
   ]
  },
  {
   "cell_type": "markdown",
   "metadata": {
    "deletable": true,
    "editable": true
   },
   "source": [
    "# Graph Traversal—”Must Know” Algorithms\n",
    "\n",
    "**Depth First Search:** DFS involves searching a node and all its children before proceeding to its siblings. <br/>\n",
    "**Breadth First Search:** BFS involves searching a node and its siblings before going on to any children."
   ]
  },
  {
   "cell_type": "markdown",
   "metadata": {
    "deletable": true,
    "editable": true
   },
   "source": [
    "# Q4.1 \n",
    "#### Implement a function to check if a tree is balanced. For the purposes of this question, a balanced tree is defined to be a tree such that no two leaf nodes differ in distance from the root by more than one."
   ]
  },
  {
   "cell_type": "code",
   "execution_count": 3,
   "metadata": {
    "collapsed": false,
    "deletable": true,
    "editable": true
   },
   "outputs": [
    {
     "data": {
      "text/plain": [
       "False"
      ]
     },
     "execution_count": 3,
     "metadata": {},
     "output_type": "execute_result"
    }
   ],
   "source": [
    "def maxDepth(root):\n",
    "    if not root:\n",
    "        return 0\n",
    "    else:\n",
    "        return 1 + max(maxDepth(root.leftchild), maxDepth(root.rightchild))\n",
    "        \n",
    "def minDepth(root):\n",
    "    if not root:\n",
    "        return 0\n",
    "    else:\n",
    "        return 1 + min(minDepth(root.leftchild), minDepth(root.rightchild))\n",
    "        \n",
    "def isBalanced(root):\n",
    "    return ((maxDepth(root)- minDepth(root)) <=1)\n",
    "    \n",
    "    \n",
    "root = Node(5)\n",
    "binary_insert(root, Node(2))\n",
    "binary_insert(root, Node(7))\n",
    "binary_insert(root, Node(1))\n",
    "binary_insert(root, Node(9))\n",
    "binary_insert(root, Node(11))\n",
    "binary_insert(root, Node(12))\n",
    "isBalanced(root)"
   ]
  },
  {
   "cell_type": "markdown",
   "metadata": {
    "deletable": true,
    "editable": true
   },
   "source": [
    "# Q4.2 \n",
    "#### Given a directed graph, design an algorithm to find out whether there is a route between two nodes."
   ]
  },
  {
   "cell_type": "code",
   "execution_count": 4,
   "metadata": {
    "collapsed": false,
    "deletable": true,
    "editable": true
   },
   "outputs": [
    {
     "data": {
      "text/plain": [
       "True"
      ]
     },
     "execution_count": 4,
     "metadata": {},
     "output_type": "execute_result"
    }
   ],
   "source": [
    "class DirectedGraph: \n",
    "    def __init__(self):\n",
    "        self.nodes = {}\n",
    "        self.num_nodes = 0\n",
    "        \n",
    "    def addNode(self, value):\n",
    "        self.num_nodes += 1\n",
    "        node = Node(value)\n",
    "        self.nodes[value]= node\n",
    "        \n",
    "    def addEdge(self, frm, to):\n",
    "        if frm not in self.nodes:\n",
    "            self.addNode(frm)\n",
    "        if to not in self.nodes:\n",
    "            self.addNode(to)\n",
    "        \n",
    "        self.nodes[frm].addNeighbor(to)\n",
    "    \n",
    "    def getNodes(self):\n",
    "        return self.nodes\n",
    "    \n",
    "    def getNode(self, id):\n",
    "        if id in self.nodes:\n",
    "            return self.nodes[id]\n",
    "        else:\n",
    "            return None\n",
    "        \n",
    "        \n",
    "class Node:\n",
    "    def __init__(self, id):\n",
    "        self.id = id\n",
    "        self.adjacent = []\n",
    "        self.state = None\n",
    "    def addNeighbor(self, id):\n",
    "        self.adjacent.append(id)\n",
    "    def __str__(self):\n",
    "        return  str(self.id) + ' adjacent: ' +  ','.join(self.adjacent) + ' state:' + str(self.state)\n",
    "\n",
    "    def getNeighbors(self):\n",
    "        return self.adjacent\n",
    "    def getId(self):\n",
    "        return self.id\n",
    "        \n",
    "def search(g, start, end):\n",
    "    q = [] \n",
    "    visited = set()\n",
    "        \n",
    "    q.append(start)\n",
    "    \n",
    "    while q:\n",
    "        \n",
    "        u = g.getNode(q.pop(0))\n",
    "       \n",
    "        if u:\n",
    "            for id in u.getNeighbors():\n",
    "                v = g.getNode(id)              \n",
    "                if id not in visited:\n",
    "                    if id == end:\n",
    "                        return True\n",
    "                    else:\n",
    "                       \n",
    "                        q.append(id)\n",
    "           \n",
    "            visited.add(u.getId())\n",
    "      \n",
    "    return False\n",
    "\n",
    "\n",
    "g = DirectedGraph()\n",
    "g.addEdge('A', 'B')\n",
    "g.addEdge('B', 'C')\n",
    "g.addEdge('C', 'D')\n",
    "g.addEdge(\"D\", 'F')\n",
    "g.addEdge(\"E\",'F')\n",
    "g.addEdge('A','E')\n",
    "\n",
    "            \n",
    "search(g, \"A\", \"F\")"
   ]
  },
  {
   "cell_type": "markdown",
   "metadata": {},
   "source": [
    "# Q4.3 \n",
    "#### Given a sorted (increasing order) array, write an algorithm to create a binary tree with minimal height."
   ]
  },
  {
   "cell_type": "markdown",
   "metadata": {},
   "source": [
    "Algorithm:\n",
    "1. Insert into the tree the middle element of the array.\n",
    "2. Insert (into the left subtree) the left subarray elements\n",
    "3. Insert (into the right subtree) the right subarray elements\n",
    "4. Recurse"
   ]
  },
  {
   "cell_type": "code",
   "execution_count": 5,
   "metadata": {
    "collapsed": false
   },
   "outputs": [
    {
     "name": "stdout",
     "output_type": "stream",
     "text": [
      "2\n",
      "4\n",
      "5\n",
      "6\n",
      "7\n",
      "8\n",
      "9\n"
     ]
    }
   ],
   "source": [
    "class TreeNode:\n",
    "    def __init__(self, val):\n",
    "        self.val = val\n",
    "        self.leftchild = None\n",
    "        self.rightchild = None\n",
    "        \n",
    "    def __str__(self):\n",
    "        return str(self.val)\n",
    "    \n",
    "    def setLeftChild (self, t):\n",
    "        self.leftchild = t\n",
    "        \n",
    "    def setRightChild (self, t):\n",
    "        self.leftchild = t\n",
    "    \n",
    "def addToTree(arr, start, end):\n",
    "    if (end<start):\n",
    "        return \n",
    "    else:\n",
    "        mid = (start + end)//2\n",
    "        n = TreeNode(arr[mid])\n",
    "        n.leftchild = addToTree(arr, start, mid-1)\n",
    "        n.rightchild = addToTree(arr, mid+1, end)\n",
    "\n",
    "        return n\n",
    "    \n",
    "def createMinBST(arr):\n",
    "    return addToTree(arr, 0, len(arr)-1)\n",
    "\n",
    "def in_order_print(root):\n",
    "    if not root:\n",
    "        return\n",
    "    in_order_print(root.leftchild)\n",
    "    print (root.val)\n",
    "    in_order_print(root.rightchild)\n",
    "    \n",
    "a = [2,4,5,6,7,8,9]\n",
    "t = createMinBST(a)\n",
    "in_order_print(t)\n"
   ]
  },
  {
   "cell_type": "markdown",
   "metadata": {},
   "source": [
    "# Q4.4 \n",
    "#### Given a binary search tree, design an algorithm which creates a linked list of all the nodes at each depth (eg, if you have a tree with depth D, you’ll have D linked lists)."
   ]
  },
  {
   "cell_type": "code",
   "execution_count": 6,
   "metadata": {
    "collapsed": false
   },
   "outputs": [
    {
     "name": "stdout",
     "output_type": "stream",
     "text": [
      "level  0 : 6\n",
      "level  1 : 4 8\n",
      "level  2 : 2 5 7 9\n"
     ]
    }
   ],
   "source": [
    "def findLevelLinkList(root):\n",
    "    level = 0\n",
    "    result = []\n",
    "    l = []\n",
    "    l.append(root)\n",
    "    result.append( l)\n",
    "    while 1:\n",
    "        l = []\n",
    "        for i in range(len(result[level])):\n",
    "            n = result[level][i]\n",
    "            if  n:\n",
    "                if n.leftchild :\n",
    "                    l.append(n.leftchild)\n",
    "                if n.rightchild:\n",
    "                    l.append(n.rightchild)\n",
    "        if l:\n",
    "            result.append( l)\n",
    "        else:\n",
    "            break\n",
    "        level += 1\n",
    "    return result\n",
    "\n",
    "result  = findLevelLinkList(t)\n",
    "\n",
    "for i in range(len(result)):\n",
    "    ii = result[i]\n",
    "    print (\"level \", i ,\":\",\" \".join([str(j.val) for j in ii]))\n",
    "   \n",
    "                \n",
    "        \n",
    "    \n",
    "    "
   ]
  },
  {
   "cell_type": "markdown",
   "metadata": {},
   "source": [
    "# Q4.5 \n",
    "#### Write an algorithm to find the ‘next’ node (e.g., in-order successor) of a given node in a binary search tree where each node has a link to its parent."
   ]
  },
  {
   "cell_type": "markdown",
   "metadata": {},
   "source": [
    "1. If X has a right child, then the successor must be on the right side of X (because of the order in which we visit nodes). Specifically, the left-most child must be the first node visited in that subtree.\n",
    "2. Else, we go to X’s parent (call it P).<br/>\n",
    "2.a. If X was a left child (P.left = X), then P is the successor of X <br/>\n",
    "2.b. If X was a right child (P.right = X), then we have fully visited P, so we call successor(P)."
   ]
  },
  {
   "cell_type": "code",
   "execution_count": 7,
   "metadata": {
    "collapsed": false
   },
   "outputs": [
    {
     "name": "stdout",
     "output_type": "stream",
     "text": [
      "1\n",
      "3\n",
      "5\n",
      "7\n",
      "3 successor 5\n"
     ]
    }
   ],
   "source": [
    "class TreeNode:\n",
    "    def __init__(self, val):\n",
    "        self.val = val\n",
    "        self.leftchild = None\n",
    "        self.rightchild = None\n",
    "        self.parent = None\n",
    "    \n",
    "    def setParent (self, t):\n",
    "        self.parent = t\n",
    "    \n",
    "    def __str__(self):\n",
    "        return str(self.val) \n",
    "    def printParent(self):\n",
    "        return self.parent\n",
    "        \n",
    "def binary_insert(root, node):\n",
    "    if root is None:\n",
    "        root = node\n",
    "    else:\n",
    "        if root.val > node.val:\n",
    "            if root.leftchild is None:\n",
    "                root.leftchild = node\n",
    "                node.setParent(root)\n",
    "            else:\n",
    "                binary_insert(root.leftchild, node)\n",
    "        else:\n",
    "            if root.rightchild is None:\n",
    "                root.rightchild = node\n",
    "                node.setParent(root)\n",
    "            else:\n",
    "                binary_insert(root.rightchild, node)\n",
    "                \n",
    "def inorderSucc(e):\n",
    "    if e:\n",
    "        if (e.parent) or (e.rightchild ):\n",
    "            p = leftMostChild(e.rightchild)\n",
    "        else:\n",
    "            while( e.parent):\n",
    "                p = e.parent\n",
    "                if (p.leftchild == e):\n",
    "                    break\n",
    "                e = p\n",
    "                \n",
    "        return p\n",
    "    return None\n",
    "\n",
    "def leftMostChild(e):\n",
    "    if e is None:\n",
    "        return None\n",
    "    while(e.leftchild ):\n",
    "        e = e.leftchild\n",
    "    return e\n",
    "    \n",
    "\n",
    "r = TreeNode(3)\n",
    "binary_insert(r, TreeNode(7))\n",
    "binary_insert(r, TreeNode(1))\n",
    "binary_insert(r, TreeNode(5))\n",
    "\n",
    "in_order_print(r)\n",
    "\n",
    "print(r,'successor',inorderSucc(r))\n",
    "\n",
    "\n",
    "\n",
    "        \n",
    "        \n",
    "    "
   ]
  },
  {
   "cell_type": "markdown",
   "metadata": {},
   "source": [
    "# Q4.6\n",
    "#### Design an algorithm and write code to find the first common ancestor of two nodes in a binary tree. Avoid storing additional nodes in a data structure. NOTE: This is not necessarily a binary search tree."
   ]
  },
  {
   "cell_type": "markdown",
   "metadata": {},
   "source": [
    "For any node r, we know the following:\n",
    "1. If p is on one side and q is on the other, r is the first common ancestor.\n",
    "2. Else, the first common ancestor is on the left or the right side."
   ]
  },
  {
   "cell_type": "code",
   "execution_count": 8,
   "metadata": {
    "collapsed": false
   },
   "outputs": [],
   "source": [
    "def covers(root, p, q):\n",
    "    if root in None:\n",
    "        return 0\n",
    "    if root == p or root == q:\n",
    "        ret += 1\n",
    "    ret += covers(root.left, p, q)\n",
    "    if (ret == 2):\n",
    "        return ret\n",
    "    return ret + covers(root.right, p,q)\n",
    "\n",
    "def commonAncestor(root, p,q):\n",
    "    if (p == q and (root.leftchild ==q or root.rightchild ==q)):\n",
    "        return root\n",
    "    nodesFromLeft = covers(root.leftchild,p,q) #check left side\n",
    "    if (nodesFromLeft == 2):\n",
    "        if (root.leftchild == p or root.leftchild ==q):\n",
    "            return root.leftchild\n",
    "        else:\n",
    "            return commonAncestor(root.leftchild, p,q)\n",
    "    elif nodesFromLeft == 1:\n",
    "        if root == p:\n",
    "            return p\n",
    "        elif root ==q :\n",
    "            return q\n",
    "    \n",
    "    nodesFromRight = covers(root.rightchild,p,q) #check right side\n",
    "    if (nodesFromRight == 2):\n",
    "        if (root.rightchild == p or root.rightchild ==q):\n",
    "            return root.rightchild\n",
    "        else:\n",
    "            return commonAncestor(root.rightchild, p,q)\n",
    "    elif nodesFromRight == 1:\n",
    "        if root == p:\n",
    "            return p\n",
    "        elif root ==q :\n",
    "            return q\n",
    "        \n",
    "    if nodesFromLeft == 1 and nodesFromRight ==1:\n",
    "        return root\n",
    "    \n",
    "    else:\n",
    "        return none\n",
    "    \n",
    "            \n",
    "    "
   ]
  },
  {
   "cell_type": "markdown",
   "metadata": {},
   "source": [
    "# Q4.7 \n",
    "#### You have two very large binary trees: T1, with millions of nodes, and T2, with hundreds of nodes. Create an algorithm to decide if T2 is a subtree of T1."
   ]
  },
  {
   "cell_type": "code",
   "execution_count": 9,
   "metadata": {
    "collapsed": true
   },
   "outputs": [],
   "source": [
    "def containsTree(t1, t2):\n",
    "    if (t2 is None):\n",
    "        return True\n",
    "    else:\n",
    "        return subTree(t1,t2)\n",
    "    \n",
    "def subTree(r1, r2):\n",
    "    if r1 is None:\n",
    "        return False\n",
    "    if r1.val == r2.val:\n",
    "        if matchTree(r1,r2):\n",
    "            return True\n",
    "    return (subTree(r1.leftchild, r2) or subTree(r1.rightchild, r2))\n",
    "\n",
    "def matchesTree(r1, r2):\n",
    "    if r2 is None and r1 is None:\n",
    "        return True\n",
    "    if r1 is None or r2 is None:\n",
    "        return False\n",
    "    if r1.val != r2.val:\n",
    "        return False\n",
    "    return (matchTree(r1.leftchild, r2.leftchild) and matchTree(r1.rightchild, r2.rightchild))\n",
    "    "
   ]
  },
  {
   "cell_type": "markdown",
   "metadata": {},
   "source": [
    "# Q4.8 \n",
    "#### You are given a binary tree in which each node contains a value. Design an algorithm to print all paths which sum up to that value. Note that it can be any path in the tree - it does not have to start at the root."
   ]
  },
  {
   "cell_type": "code",
   "execution_count": 10,
   "metadata": {
    "collapsed": false
   },
   "outputs": [],
   "source": [
    "def findSum(head, s, buffer, level):\n",
    "    if head is None:\n",
    "        return\n",
    "    tmp = s\n",
    "    \n",
    "    buffer.append(head.val)\n",
    "\n",
    "    for i in range(level, -1,-1):\n",
    "        tmp -= buffer[i]\n",
    "        if tmp == 0:\n",
    "            printbuffer(buff,i,level)\n",
    "            \n",
    "    c1 = buffer.copy()\n",
    "    c2 = buffer.copy()\n",
    "    findSum(head.leftchild,s,c1,level +1)\n",
    "    findSum(head,rightchild,s,c2,level +1)\n",
    "    \n",
    "    \n",
    "def printbuffer(buffer, level, i2):\n",
    "    print (' '.join([buffer[x] for x in range(level, i2+1) ]))\n",
    "   "
   ]
  }
 ],
 "metadata": {
  "kernelspec": {
   "display_name": "Python 3",
   "language": "python",
   "name": "python3"
  },
  "language_info": {
   "codemirror_mode": {
    "name": "ipython",
    "version": 3
   },
   "file_extension": ".py",
   "mimetype": "text/x-python",
   "name": "python",
   "nbconvert_exporter": "python",
   "pygments_lexer": "ipython3",
   "version": "3.5.2"
  }
 },
 "nbformat": 4,
 "nbformat_minor": 2
}
