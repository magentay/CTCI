{
 "cells": [
  {
   "cell_type": "markdown",
   "metadata": {},
   "source": [
    "# Q19.1\n",
    "#### Write a function to swap a number in place without temporary variables.\n"
   ]
  },
  {
   "cell_type": "code",
   "execution_count": 2,
   "metadata": {
    "collapsed": false
   },
   "outputs": [
    {
     "data": {
      "text/plain": [
       "(4, 9)"
      ]
     },
     "execution_count": 2,
     "metadata": {},
     "output_type": "execute_result"
    }
   ],
   "source": [
    "# taking the difference between a and b:\n",
    "\n",
    "def swap(a,b):\n",
    "    a = b - a  # 9 - 5 = 4 \n",
    "    b = b - a  # 9 - 4 = 5\n",
    "    a = a + b  # 4 + 5 = 9\n",
    "    return (a,b)\n",
    "\n",
    "swap(9,4)\n",
    "    "
   ]
  },
  {
   "cell_type": "code",
   "execution_count": 3,
   "metadata": {
    "collapsed": false
   },
   "outputs": [
    {
     "data": {
      "text/plain": [
       "(4, 9)"
      ]
     },
     "execution_count": 3,
     "metadata": {},
     "output_type": "execute_result"
    }
   ],
   "source": [
    "def swap2(a, b):\n",
    "    a = a^b\n",
    "    b = a^b\n",
    "    a = a^b  \n",
    "    return (a,b)\n",
    "swap2(9,4)\n",
    "    "
   ]
  },
  {
   "cell_type": "markdown",
   "metadata": {},
   "source": [
    "# Q19.2 \n",
    "#### Design an algorithm to figure out if someone has won in a game of tic-tac-toe."
   ]
  },
  {
   "cell_type": "code",
   "execution_count": 4,
   "metadata": {
    "collapsed": true
   },
   "outputs": [],
   "source": [
    "# Approach #1: If hasWon is called many times\n",
    "# (0 means Empty, 1 means Red, 2 means Blue)  only 3**9 \n",
    "def hasWon(board):\n",
    "    return winnerHashtable[board]\n"
   ]
  },
  {
   "cell_type": "code",
   "execution_count": 11,
   "metadata": {
    "collapsed": false
   },
   "outputs": [
    {
     "data": {
      "text/plain": [
       "'notWin'"
      ]
     },
     "execution_count": 11,
     "metadata": {},
     "output_type": "execute_result"
    }
   ],
   "source": [
    "# Approach #2: If hasWon is only called once\n",
    "\n",
    "# def checkValid(board)\n",
    "def checkWin(board):\n",
    "    \n",
    "    # check row \n",
    "    for i in range(3):\n",
    "        if board[i][0]!='' and board[i][0] == board[i][1] and board[i][1] == board[i][2]:\n",
    "            return \"Win\"\n",
    "    \n",
    "    # check column\n",
    "    for i in range(3):\n",
    "        if board[0][i]!=''and board[0][i] == board[1][i] and board[1][i] == board[2][i]:\n",
    "            return \"Win\"\n",
    "            \n",
    "    # check Diagonal\n",
    "    if board[0][0]!='' and board[0][0] == board[1][1] and board[1][1] == board[2][2]:\n",
    "        return \"Win\"\n",
    "        \n",
    "    if board[0][2]!='' and board[0][2] == board[1][1] and board[1][1] == board[2][0]:\n",
    "        return \"Win\"\n",
    "    \n",
    "        \n",
    "    return \"notWin\"\n",
    "\n",
    "board = [['X', 'X', 'O'], ['O', 'O', 'X'],['X', 'O', 'X']]\n",
    "checkWin(board)"
   ]
  },
  {
   "cell_type": "markdown",
   "metadata": {},
   "source": [
    "# Q19.3 \n",
    "#### Write an algorithm which computes the number of trailing zeros in n factorial."
   ]
  },
  {
   "cell_type": "code",
   "execution_count": 21,
   "metadata": {
    "collapsed": false
   },
   "outputs": [
    {
     "data": {
      "text/plain": [
       "6"
      ]
     },
     "execution_count": 21,
     "metadata": {},
     "output_type": "execute_result"
    }
   ],
   "source": [
    "#Trailing zeros are contributed by pairs of 5 and 2\n",
    "def numZeros(num):\n",
    "    n5 = 0\n",
    "    \n",
    "    i = 1\n",
    "    while(i*5<num):\n",
    "        n5 +=num//(i*5)\n",
    "        i *=5\n",
    "        \n",
    "    return n5\n",
    "\n",
    "numZeros(26)\n",
    "# 26/ 5=  5\n",
    "# 26/25 = 1"
   ]
  },
  {
   "cell_type": "markdown",
   "metadata": {},
   "source": [
    "# Q19.4 \n",
    "#### Write a method which finds the maximum of two numbers. You should not use if-else or any other comparison operator.\n",
    "EXAMPLE <br/>\n",
    "Input: 5, 10 <br/>\n",
    "Output: 10 <br/>"
   ]
  },
  {
   "cell_type": "code",
   "execution_count": 23,
   "metadata": {
    "collapsed": false
   },
   "outputs": [
    {
     "data": {
      "text/plain": [
       "46"
      ]
     },
     "execution_count": 23,
     "metadata": {},
     "output_type": "execute_result"
    }
   ],
   "source": [
    "# Rewording 1: If a > b, return a; else, return b.\n",
    "# Rewording 2: If (a - b) is negative, return b; else, return a.\n",
    "# Rewording 3: If (a - b) is negative, let k = 1; else, let k = 0. Return a - k * (a - b).\n",
    "# Rewording 4: Let c = a - b. Let k = the most significant bit of c. Return a - k * c.\n",
    "\n",
    "def getMax(a,b):\n",
    "    c = a - b\n",
    "    k = (c>>31) & 0x1 \n",
    "    return a -k*c\n",
    "\n",
    "getMax(13,46)"
   ]
  },
  {
   "cell_type": "markdown",
   "metadata": {},
   "source": [
    "# Q19.5 \n",
    "#### The Game of Master Mind is played as follows: <br/> The computer has four slots containing balls that are red (R), yellow (Y), green (G) or blue (B). For example, the computer might have RGGB (e.g., Slot #1 is red, Slots #2 and #3 are green, Slot #4 is blue). <br/> You, the user, are trying to guess the solution. You might, for example, guess YRGB. When you guess the correct color for the correct slot, you get a “hit”. If you guess a color that exists but is in the wrong slot, you get a “pseudo-hit”. For example, the guess YRGB has 2 hits and one pseudo hit. <br/> For each guess, you are told the number of hits and pseudo-hits. <br/>Write a method that, given a guess and a solution, returns the number of hits and pseudo hits."
   ]
  },
  {
   "cell_type": "code",
   "execution_count": 26,
   "metadata": {
    "collapsed": false
   },
   "outputs": [
    {
     "name": "stdout",
     "output_type": "stream",
     "text": [
      "hits       : 2\n",
      "pseudo hits: 1\n"
     ]
    }
   ],
   "source": [
    "def estimate( guess, solution):\n",
    "    hit = 0\n",
    "    phit =0\n",
    "    guessleft = []\n",
    "    solutionleft = []\n",
    "    for i in range(4):\n",
    "        if guess[i] == solution[i]:\n",
    "            hit += 1\n",
    "        else:\n",
    "            guessleft.append(guess[i])\n",
    "            solutionleft.append(solution[i])\n",
    "            \n",
    "    for x in guessleft:\n",
    "        if x in solutionleft:\n",
    "            phit += 1\n",
    "            \n",
    "    print (\"hits       :\", hit)\n",
    "    print (\"pseudo hits:\" ,phit)\n",
    "    \n",
    "\n",
    "estimate('YRGB','RGGB' )\n",
    "                "
   ]
  },
  {
   "cell_type": "markdown",
   "metadata": {},
   "source": [
    "# Q19.6 \n",
    "#### Given an integer between 0 and 999,999, print an English phrase that describes the integer (eg, “One Thousand, Two Hundred and Thirty Four”)."
   ]
  },
  {
   "cell_type": "code",
   "execution_count": 71,
   "metadata": {
    "collapsed": false
   },
   "outputs": [
    {
     "name": "stdout",
     "output_type": "stream",
     "text": [
      "[9]\n",
      "Nine\n",
      "[1, 0]\n",
      "Ten\n",
      "[1, 9]\n",
      "Nineteen\n",
      "[2, 9]\n",
      "Twenty Nine\n",
      "[9, 0]\n",
      "Ninety\n",
      "[1, 0, 9]\n",
      "One Hundred and Nine\n",
      "[1, 0, 0]\n",
      "One Hundred\n",
      "[1, 1, 0]\n",
      "One Hundred and Ten\n",
      "[2, 1, 9]\n",
      "Two Hundred and Nineteen\n",
      "[2, 3, 9]\n",
      "Two Hundred and Thirty Nine\n",
      "[1, 1, 1, 9]\n",
      "One Thousand, One Hundred and Nineteen\n",
      "[2, 0, 0, 0]\n",
      "Two Thousand\n",
      "[9, 1, 2, 1]\n",
      "Nine Thousand, One Hundred and Twenty One\n",
      "[1, 9, 2, 3]\n",
      "One Thousand, Nine Hundred and Twenty Three\n",
      "[1, 9, 0, 0, 0]\n",
      "Nineteen Thousand\n",
      "[1, 1, 3, 1, 9]\n",
      "Eleven Thousand, One Hundred and Thirty One\n",
      "[2, 3, 3, 9, 1, 3]\n",
      "Two Hundred and Thirty Three Thousand, Three Hundred and Thirty Nine\n"
     ]
    }
   ],
   "source": [
    "def numToString(num):\n",
    "    word1 = [\"\", 'One','Two','Three','Four','Five','Six','Seven','Eight', 'Nine' ]\n",
    "    word11 = ['', 'Eleven', 'Twelve','Thirteen','Fourteen', 'Fifteen', 'Sixteen','Seventeen', 'Eighteen','Nineteen']\n",
    "    word10 = ['', 'Ten','Twenty', 'Thirty', 'Forty', 'Fifty', 'Sixty', 'Seventy', 'Eighty','Ninety']\n",
    "    word100 = ['', \"Hundred\",'Thousand']\n",
    "    \n",
    "    def getOneDigit(digit):\n",
    "        return [word1[digit]]\n",
    "    def getTwoDigit(digits):\n",
    "        sb = []\n",
    "        if digits[0]==0:\n",
    "            sb.append(word1[digits[1]])\n",
    "        \n",
    "        elif digits[0]==1:\n",
    "            if digits[1]!=0:\n",
    "                sb.append(word11[digits[1]])\n",
    "            else:\n",
    "                sb.append(word10[digits[0]])\n",
    "        else:\n",
    "            sb.append(word10[digits[0]])\n",
    "            if digits[1]!=0:\n",
    "                sb.append(word1[digits[1]])\n",
    "        return sb\n",
    "    def getThreeDigit(digits):\n",
    "        sb = []\n",
    "        sb += getOneDigit(digits[0])\n",
    "        sb += ['Hundred']\n",
    "        if not (digits[1]==0 and digits[2]==0):\n",
    "            sb +=['and']\n",
    "            sb += getTwoDigit(digits[1:])\n",
    "        return sb\n",
    "        \n",
    "    \n",
    "    \n",
    "        \n",
    "    \n",
    "    sb = []\n",
    "\n",
    "    if num == 0:\n",
    "        sb.append(\"Zero\")\n",
    "    else:\n",
    "        digits = []\n",
    "        \n",
    "        while num>=1:\n",
    "            digits.append(num%10)\n",
    "            num= num//10\n",
    "        digits = list(reversed(digits))\n",
    "        print (digits)\n",
    "    \n",
    "        n = len(digits)\n",
    "        if n ==1:\n",
    "            sb += getOneDigit(digits[0])\n",
    "        elif n==2:\n",
    "            sb += getTwoDigit(digits)\n",
    "           \n",
    "        elif n==3:\n",
    "            sb += getThreeDigit(digits)\n",
    "            \n",
    "        elif n==4 :\n",
    "            sb += getOneDigit(digits[0])\n",
    "            \n",
    "            if not(digits[1] ==0 and digits[2] == 0 and digits[3]==0):\n",
    "                sb+= [\"Thousand,\"]\n",
    "                sb += getThreeDigit(digits[1:])\n",
    "            else:\n",
    "                sb+= [\"Thousand\"]\n",
    "        elif n == 5:\n",
    "            sb += getTwoDigit(digits[0:2])\n",
    "            \n",
    "            if not(digits[2] ==0 and digits[3] == 0 and digits[4]==0):\n",
    "                sb+= [\"Thousand,\"]\n",
    "                sb += getThreeDigit(digits[1:])\n",
    "            else:\n",
    "                sb+= [\"Thousand\"]\n",
    "        elif n==6:\n",
    "            sb += getThreeDigit(digits[0:3])\n",
    "            \n",
    "            if not(digits[3] ==0 and digits[4] == 0 and digits[5]==0):\n",
    "                sb+= [\"Thousand,\"]\n",
    "                sb += getThreeDigit(digits[1:])\n",
    "            else:\n",
    "                sb+= [\"Thousand\"]\n",
    "            \n",
    "        \n",
    "            \n",
    "            \n",
    "                \n",
    "        \n",
    "    print (' '.join(sb))\n",
    "    \n",
    "numToString(9)\n",
    "numToString(10)\n",
    "numToString(19)\n",
    "numToString(29)\n",
    "numToString(90)\n",
    "numToString(109)\n",
    "numToString(100)\n",
    "numToString(110)\n",
    "numToString(219)\n",
    "numToString(239)\n",
    "numToString(1119)\n",
    "numToString(2000)\n",
    "numToString(9121)\n",
    "numToString(1923)\n",
    "numToString(19000)\n",
    "numToString(11319)\n",
    "numToString(233913)\n"
   ]
  },
  {
   "cell_type": "markdown",
   "metadata": {},
   "source": [
    "# Q19.7 \n",
    "#### You are given an array of integers (both positive and negative). Find the continuous sequence with the largest sum. Return the sum.\n",
    "EXAMPLE <br/>\n",
    "Input: {2, -8, 3, -2, 4, -10}<br/>\n",
    "Output: 5 (i.e., {3, -2, 4} )<br/>"
   ]
  },
  {
   "cell_type": "code",
   "execution_count": 74,
   "metadata": {
    "collapsed": false
   },
   "outputs": [
    {
     "data": {
      "text/plain": [
       "5"
      ]
     },
     "execution_count": 74,
     "metadata": {},
     "output_type": "execute_result"
    }
   ],
   "source": [
    "def getMaxSum(A):\n",
    "    maxsum =0\n",
    "    s =0\n",
    "    for i in A:\n",
    "        s += i\n",
    "        if maxsum<s:\n",
    "            maxsum = s\n",
    "        else:\n",
    "            if s<0:\n",
    "                s= 0\n",
    "                \n",
    "    return maxsum\n",
    "\n",
    "A = [2, -8, 3, -2, 4, -10]\n",
    "getMaxSum(A)\n",
    "\n",
    "#If the array is all negative numbers, what is the correct behavior?"
   ]
  },
  {
   "cell_type": "markdown",
   "metadata": {},
   "source": [
    "# Q19.8 \n",
    "#### Design a method to find the frequency of occurrences of any given word in a book."
   ]
  },
  {
   "cell_type": "code",
   "execution_count": 75,
   "metadata": {
    "collapsed": true
   },
   "outputs": [],
   "source": [
    "def setupDictionary(book):\n",
    "    table ={}\n",
    "    for word in book:\n",
    "        word = word.strip().lower()\n",
    "        if word!='':\n",
    "            if word in table:\n",
    "                table[word]+=1\n",
    "            else:\n",
    "                table[word] = 1\n",
    "\n",
    "def getFreq(table, word):\n",
    "    if not table or not word:\n",
    "        return -1\n",
    "    if word in table:\n",
    "        return table[word]\n",
    "    return 0"
   ]
  },
  {
   "cell_type": "markdown",
   "metadata": {},
   "source": [
    "# Q19.10 \n",
    "#### Write a method to generate a random number between 1 and 7, given a method that generates a random number between 1 and 5 (i.e., implement rand7() using rand5())."
   ]
  },
  {
   "cell_type": "code",
   "execution_count": 77,
   "metadata": {
    "collapsed": true
   },
   "outputs": [],
   "source": [
    "def rand7():\n",
    "    while 1:\n",
    "        num = 5*(rand5()-1) + (rand5()-1)\n",
    "        if num<21:\n",
    "            return num%7+1"
   ]
  },
  {
   "cell_type": "markdown",
   "metadata": {},
   "source": [
    "# Q19.11 \n",
    "#### Design an algorithm to find all pairs of integers within an array which sum to a specified value."
   ]
  },
  {
   "cell_type": "code",
   "execution_count": 80,
   "metadata": {
    "collapsed": false
   },
   "outputs": [
    {
     "name": "stdout",
     "output_type": "stream",
     "text": [
      "6 7\n"
     ]
    }
   ],
   "source": [
    "def findPairSums(A, s):\n",
    "    A = sorted(A)\n",
    "    \n",
    "    first = 0\n",
    "    last = len(A)-1\n",
    "    \n",
    "    while(first < last):\n",
    "        s0 = A[first] + A[last]\n",
    "        \n",
    "        if s0== s:\n",
    "            print(A[first], A[last])\n",
    "            first += 1\n",
    "            last -=1\n",
    "        elif s0<s:\n",
    "            first +=1\n",
    "        else:\n",
    "            last -=1\n",
    "        \n",
    "        \n",
    "A =[1,3,4,5,6,7,23,5,35,73,63,634,32]\n",
    "findPairSums(A,13)   "
   ]
  }
 ],
 "metadata": {
  "kernelspec": {
   "display_name": "Python 3",
   "language": "python",
   "name": "python3"
  },
  "language_info": {
   "codemirror_mode": {
    "name": "ipython",
    "version": 3
   },
   "file_extension": ".py",
   "mimetype": "text/x-python",
   "name": "python",
   "nbconvert_exporter": "python",
   "pygments_lexer": "ipython3",
   "version": "3.5.2"
  }
 },
 "nbformat": 4,
 "nbformat_minor": 2
}
