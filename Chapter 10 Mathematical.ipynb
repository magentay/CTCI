{
 "cells": [
  {
   "cell_type": "markdown",
   "metadata": {},
   "source": [
    "# Q10.1\n",
    "#### You have a basketball hoop and someone says that you can play 1 of 2 games. <br/> Game #1: You get one shot to make the hoop. <br/>Game #2: You get three shots and you have to make 2 of 3 shots.<br/> If p is the probability of making a particular shot, for which values of p should you pick one game or the other?"
   ]
  },
  {
   "cell_type": "markdown",
   "metadata": {},
   "source": [
    "Probability of winning Game 1: p <br/>\n",
    "Probability of winning Game 2: 3*(1-p)*p^2 +*p^3 <br/>\n",
    "\n",
    "\n",
    "You should play Game1 if P(Game1) > P(Game2):<br/>\n",
    "p > 3*p^2 - 2*p^3.<br/>\n",
    "\n",
    "\n",
    "So, we should play Game1 if p < .5."
   ]
  },
  {
   "cell_type": "markdown",
   "metadata": {},
   "source": [
    "# Q10.2 \n",
    "#### There are three ants on different vertices of a triangle. What is the probability of collision (between any two or all of them) if they start walking on the sides of the triangle? Similarly find the probability of collision with ‘n’ ants on an ‘n’ vertex polygon."
   ]
  },
  {
   "cell_type": "markdown",
   "metadata": {},
   "source": [
    "1-2/2^3 = 3/4 <br/>\n",
    "\n",
    "1 - 1/2^(n-1)\n"
   ]
  },
  {
   "cell_type": "markdown",
   "metadata": {},
   "source": [
    "# Q10.3 \n",
    "#### Given two lines on a Cartesian plane, determine whether the two lines would intersect."
   ]
  },
  {
   "cell_type": "code",
   "execution_count": 1,
   "metadata": {
    "collapsed": false
   },
   "outputs": [
    {
     "data": {
      "text/plain": [
       "True"
      ]
     },
     "execution_count": 1,
     "metadata": {},
     "output_type": "execute_result"
    }
   ],
   "source": [
    "epsilon =0.000001\n",
    "\n",
    "class line:\n",
    "   \n",
    "    def __init__(self,a, b):\n",
    "        self.slope = a\n",
    "        self.intercept = b\n",
    "    \n",
    "    def intersect(self,l2):\n",
    "        return abs(self.slope -l2.slope) > epsilon or abs(self.intercept, l2.intercept) < epsilon\n",
    "\n",
    "        \n",
    "a1 = 1\n",
    "a2 = 2\n",
    "b1 = 3\n",
    "b2 = 4\n",
    "\n",
    "l1 = line(a1, b1)\n",
    "l2 = line(a2, b2)\n",
    "l1.intersect(l2)\n",
    "\n"
   ]
  },
  {
   "cell_type": "markdown",
   "metadata": {},
   "source": [
    "# Q10.4 \n",
    "#### Write a method to implement *, - , / operations. You should use only the + operator."
   ]
  },
  {
   "cell_type": "code",
   "execution_count": 2,
   "metadata": {
    "collapsed": false
   },
   "outputs": [
    {
     "name": "stdout",
     "output_type": "stream",
     "text": [
      "5\n",
      "-5\n",
      "-5\n",
      "5\n"
     ]
    }
   ],
   "source": [
    "def FnNegate(a):\n",
    "    neg = 0\n",
    "    d = 1 if a<0 else -1\n",
    "    while a!=0:\n",
    "        neg += d\n",
    "        a += d\n",
    "    \n",
    "    return neg\n",
    "\n",
    "def FnMinus(a, b):\n",
    "    return a + FnNegate(b)\n",
    "\n",
    "def DifferentSigns(a,b):\n",
    "    return True if ((a<0 and b>0) or (a>0 and b<0)) else False\n",
    "\n",
    "def FnAbs(a):\n",
    "    if a<0:\n",
    "        return FnNegate(a)\n",
    "    else:\n",
    "        return a\n",
    "\n",
    "def FnTimes(a, b):\n",
    "    if a < b :\n",
    "        return FnTimes(b,a)\n",
    "    sum =0\n",
    "    for i in range(b):\n",
    "        sum += a\n",
    "    \n",
    "    if b<0 :\n",
    "        FnNegate(sum)\n",
    "    return sum\n",
    "\n",
    "def FnDivide(a,b):\n",
    "    if b== 0:\n",
    "        raise Exception('Divide by 0')\n",
    "    quotient = 0\n",
    "    divisor = FnNegate(FnAbs(b))\n",
    "    divend = FnAbs(a)\n",
    "    while divend >= FnAbs(divisor):\n",
    "        divend += divisor\n",
    "        quotient +=1\n",
    "        \n",
    "    if (DifferentSigns(a,b)):\n",
    "        quotient = FnNegate(quotient)\n",
    "        \n",
    "    return quotient\n",
    "\n",
    "print (FnDivide(35,7))\n",
    "print (FnDivide(35,-7))\n",
    "print (FnDivide(-35,7))\n",
    "print (FnDivide(-35,-7))"
   ]
  },
  {
   "cell_type": "markdown",
   "metadata": {},
   "source": [
    "# Q10.5 \n",
    "#### Given two squares on a two dimensional plane, find a line that would cut these two squares in half."
   ]
  },
  {
   "cell_type": "code",
   "execution_count": 3,
   "metadata": {
    "collapsed": true
   },
   "outputs": [],
   "source": [
    "# Any line that goes through the center of a rectangle must cut it in half. \n",
    "# Therefore, if you drew a line connecting the centers of the two squares, it would cut both in half.\n",
    "\n",
    "class Square:\n",
    "    def __init__(self, left, top, size):\n",
    "        self.left = left\n",
    "        self.top = top\n",
    "        self.right = left + size\n",
    "        self.bottom = top + size\n",
    "        \n",
    "    def middlepoint(self):\n",
    "        return( (self.left+self.right)/2 , (self.top + self.bottom)/2)\n",
    "        \n",
    "    def LineCut (self, s2):\n",
    "        middle1 = self.middlepoint()\n",
    "        middle2 = s2.middlepoint()\n",
    "        \n",
    "        if middel1 == midel2:\n",
    "            return Line((left,top), (right, bottom))\n",
    "        \n",
    "        else:\n",
    "            return Line(middle1, middle2)\n",
    "        \n",
    "        \n",
    "        \n",
    "        \n",
    "        \n",
    "    "
   ]
  },
  {
   "cell_type": "markdown",
   "metadata": {},
   "source": [
    "# Q10.6 \n",
    "#### Given a two dimensional graph with points on it, find a line which passes the most number of points."
   ]
  },
  {
   "cell_type": "code",
   "execution_count": 4,
   "metadata": {
    "collapsed": true
   },
   "outputs": [],
   "source": [
    "# find the most common slope and y-intercept\n",
    "def findBestLine(points):\n",
    "    line_count = {}\n",
    "    n = len(points)\n",
    "    maxcount= 0\n",
    "    maxpair = []\n",
    "    for i in range(n):\n",
    "        for j in range(i+1,n):\n",
    "            if points[i][0]!=points[j][0]:\n",
    "                slope = ( points[i][1]!=points[j][1])/( points[i][0]!=points[j][0])\n",
    "                intercept = points[i][1] - slope*points[i][0]\n",
    "            else:\n",
    "                slope=\"h\"\n",
    "                intercept = points[i][1]\n",
    "            \n",
    "            if (slope,intercept) in line_count:\n",
    "                line_count[(slope,intercept)] +=1\n",
    "            else:\n",
    "                line_count[(slope,intercept)] =1\n",
    "            \n",
    "            if line_count[(slope, intercept)]>maxcount:\n",
    "                maxcount = line_count[(slope,intercept)]\n",
    "                maxpair = [(slope,intercept)]\n",
    "                \n",
    "    return maxpair[0]\n",
    "    \n",
    "                "
   ]
  },
  {
   "cell_type": "code",
   "execution_count": 5,
   "metadata": {
    "collapsed": false
   },
   "outputs": [
    {
     "data": {
      "text/plain": [
       "(1.0, 2.0)"
      ]
     },
     "execution_count": 5,
     "metadata": {},
     "output_type": "execute_result"
    }
   ],
   "source": [
    "points = [(1,3),(4,6),(2,4),(5,7),(3,5)]\n",
    "findBestLine(points)"
   ]
  },
  {
   "cell_type": "markdown",
   "metadata": {},
   "source": [
    "# Q10.7\n",
    "#### Design an algorithm to find the kth number such that the only prime factors are 3, 5, and 7."
   ]
  },
  {
   "cell_type": "code",
   "execution_count": 6,
   "metadata": {
    "collapsed": false
   },
   "outputs": [
    {
     "data": {
      "text/plain": [
       "63"
      ]
     },
     "execution_count": 6,
     "metadata": {},
     "output_type": "execute_result"
    }
   ],
   "source": [
    "# 1. Initialize array magic and queues Q3, Q5 and Q7\n",
    "# 2. Insert 1 into magic.\n",
    "# 3. Insert 1*3, 1*5 and 1*7 into Q3, Q5 and Q7 respectively.\n",
    "# 4. Let x be the minimum element in Q3, Q5 and Q7. Append x to magic.\n",
    "# 5. If x was found in:\n",
    "#    Q3 -> append x*3, x*5 and x*7 to Q3, Q5 and Q7. Remove x from Q3.\n",
    "#    Q5 -> append x*5 and x*7 to Q5 and Q7. Remove x from Q5.\n",
    "#    Q7 -> only append x*7 to Q7. Remove x from Q7.\n",
    "#    Note: we do not need to append x*3 and x*5 to all lists because they will already be found in another list.\n",
    "# 6. Repeat steps 4 - 6 until we’ve found k elements. \n",
    "\n",
    "def findKthMagic(k):\n",
    "    \n",
    "  \n",
    "    if k<=0:\n",
    "        return 0\n",
    "    Q3 =[3]\n",
    "    Q5 =[5]\n",
    "    Q7 =[7]\n",
    "    val = 1\n",
    "       \n",
    "    while(k>0):\n",
    "        val =min( min(Q3[0], Q5[0]), Q7[0])\n",
    "        \n",
    "        if val ==Q7[0]:\n",
    "            Q7.remove(val)\n",
    "        else:\n",
    "            if val ==Q5[0]:\n",
    "                Q5.remove(val)\n",
    "            else:\n",
    "                Q3.remove(val)\n",
    "                Q3.append(val*3)\n",
    "            Q5.append(val*5)\n",
    "        Q7.append(val*7)\n",
    "        k-=1\n",
    "    return val\n",
    "                \n",
    "        \n",
    "findKthMagic(12)          "
   ]
  }
 ],
 "metadata": {
  "kernelspec": {
   "display_name": "Python 3",
   "language": "python",
   "name": "python3"
  },
  "language_info": {
   "codemirror_mode": {
    "name": "ipython",
    "version": 3
   },
   "file_extension": ".py",
   "mimetype": "text/x-python",
   "name": "python",
   "nbconvert_exporter": "python",
   "pygments_lexer": "ipython3",
   "version": "3.5.2"
  }
 },
 "nbformat": 4,
 "nbformat_minor": 2
}
