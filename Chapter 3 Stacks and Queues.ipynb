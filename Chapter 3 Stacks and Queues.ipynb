{
 "cells": [
  {
   "cell_type": "markdown",
   "metadata": {
    "deletable": true,
    "editable": true
   },
   "source": [
    "# Implementing a Stack"
   ]
  },
  {
   "cell_type": "code",
   "execution_count": 1,
   "metadata": {
    "collapsed": true,
    "deletable": true,
    "editable": true
   },
   "outputs": [],
   "source": [
    "class Stack:\n",
    "    def __init__(self):\n",
    "        self.items = []\n",
    "\n",
    "    def isEmpty(self):\n",
    "        return self.items == []\n",
    "\n",
    "    def push(self, item):\n",
    "        self.items.append(item)\n",
    "\n",
    "    def pop(self):\n",
    "        return self.items.pop()\n",
    "\n",
    "    def peek(self):\n",
    "        return self.items[len(self.items)-1]\n",
    "\n",
    "    def size(self):\n",
    "        return len(self.items)\n",
    "\n",
    "        \n",
    "        "
   ]
  },
  {
   "cell_type": "markdown",
   "metadata": {
    "deletable": true,
    "editable": true
   },
   "source": [
    "# Implementing a Queue"
   ]
  },
  {
   "cell_type": "code",
   "execution_count": 2,
   "metadata": {
    "collapsed": true,
    "deletable": true,
    "editable": true
   },
   "outputs": [],
   "source": [
    "class Queue:\n",
    "    def __init__(self):\n",
    "        self.items = []\n",
    "\n",
    "    def isEmpty(self):\n",
    "        return self.items == []\n",
    "\n",
    "    def enqueue(self, item):\n",
    "        self.items.insert(0,item)\n",
    "\n",
    "    def dequeue(self):\n",
    "        return self.items.pop()\n",
    "\n",
    "    def size(self):\n",
    "        return len(self.items)"
   ]
  },
  {
   "cell_type": "markdown",
   "metadata": {
    "deletable": true,
    "editable": true
   },
   "source": [
    "# Q3.1 \n",
    "#### Describe how you could use a single array to implement three stacks."
   ]
  },
  {
   "cell_type": "code",
   "execution_count": 3,
   "metadata": {
    "collapsed": false,
    "deletable": true,
    "editable": true
   },
   "outputs": [
    {
     "name": "stdout",
     "output_type": "stream",
     "text": [
      "[1, 0, 0, 0, 0, 0, 0, 0, 0, 0, 3, 0, 0, 0, 0, 0, 0, 0, 0, 0, 4, 0, 0, 0, 0, 0, 0, 0, 0, 0]\n",
      "1\n",
      "True\n",
      "3\n",
      "True\n",
      "[0, 0, 0, 0, 0, 0, 0, 0, 0, 0, 0, 0, 0, 0, 0, 0, 0, 0, 0, 0, 4, 0, 0, 0, 0, 0, 0, 0, 0, 0]\n"
     ]
    }
   ],
   "source": [
    "# Approach 1:\n",
    "# Divide the array in three equal parts and allow the individual stack to grow in that limited space\n",
    "class threeStacks:\n",
    "    def __init__(self,stacksize):\n",
    "        self.stacksize = stacksize\n",
    "        self.buffer = [0]*stacksize*3\n",
    "        self.stackPointer = [0, 0, 0] # top elem\n",
    "        \n",
    "    def push(self,stackNum, value):\n",
    "        index = stackNum * self.stacksize + self.stackPointer[stackNum] \n",
    "        self.stackPointer[stackNum] += 1\n",
    "        self.buffer[index] = value\n",
    "    \n",
    "    def pop(self,stackNum):\n",
    "        index = stackNum * self.stacksize + self.stackPointer[stackNum] -1\n",
    "        self.stackPointer[stackNum] -= 1\n",
    "        value = self.buffer[index]\n",
    "        self.buffer[index] = 0\n",
    "        return value\n",
    "    \n",
    "    def peek(self,stackNum):\n",
    "        index = stackNum * self.stacksize + self.stackPointer[stackNum] -1\n",
    "        return self.buffer[index]\n",
    "\n",
    "    def isEmpty(self,stackNum):\n",
    "        return self.stackPointer[stackNum] == 0\n",
    "        \n",
    "        \n",
    "s3 = threeStacks(10) \n",
    "s3.push(1,3)\n",
    "s3.push(2,4)\n",
    "s3.push(0,1)\n",
    "print(s3.buffer)\n",
    "print(s3.pop(0))\n",
    "print(s3.isEmpty(0))\n",
    "print(s3.pop(1))\n",
    "print(s3.isEmpty(1))\n",
    "print(s3.buffer)        \n",
    "    "
   ]
  },
  {
   "cell_type": "code",
   "execution_count": 4,
   "metadata": {
    "collapsed": false,
    "deletable": true,
    "editable": true
   },
   "outputs": [
    {
     "name": "stdout",
     "output_type": "stream",
     "text": [
      "[<__main__.StackNode object at 0x7f57e446ebe0>, <__main__.StackNode object at 0x7f57e44645c0>, <__main__.StackNode object at 0x7f57e446ea90>, 0, 0, 0, 0, 0, 0, 0, 0, 0, 0, 0, 0, 0, 0, 0, 0, 0, 0, 0, 0, 0, 0, 0, 0, 0, 0, 0]\n",
      "1\n",
      "True\n",
      "3\n",
      "True\n",
      "[0, <__main__.StackNode object at 0x7f57e44645c0>, 0, 0, 0, 0, 0, 0, 0, 0, 0, 0, 0, 0, 0, 0, 0, 0, 0, 0, 0, 0, 0, 0, 0, 0, 0, 0, 0, 0] 1 [-1, -1, 1]\n",
      "[0, <__main__.StackNode object at 0x7f57e446ec88>, 0, 0, 0, 0, 0, 0, 0, 0, 0, 0, 0, 0, 0, 0, 0, 0, 0, 0, 0, 0, 0, 0, 0, 0, 0, 0, 0, 0] 2 [-1, 1, 1]\n",
      "[0, <__main__.StackNode object at 0x7f57e446ec88>, <__main__.StackNode object at 0x7f57e44645c0>, 0, 0, 0, 0, 0, 0, 0, 0, 0, 0, 0, 0, 0, 0, 0, 0, 0, 0, 0, 0, 0, 0, 0, 0, 0, 0, 0] 3 [-1, 1, 2]\n"
     ]
    }
   ],
   "source": [
    "# Approach 2:\n",
    "# In this approach, any stack can grow as long as there is any free space in the array.\n",
    "\n",
    "class threeStacks2:\n",
    "    def __init__(self,stacksize):\n",
    "        self.stacksize = stacksize\n",
    "        self.buffer = [0]*stacksize*3\n",
    "        self.stackPointer = [-1, -1, -1] # top elem\n",
    "        self.indexUsed = 0\n",
    "    \n",
    "    def push(self, stackNum, value):\n",
    "        lastIndex = self.stackPointer[stackNum]\n",
    "        self.stackPointer[stackNum] = self.indexUsed\n",
    "        self.indexUsed += 1\n",
    "        self.buffer[self.stackPointer[stackNum]] = StackNode(lastIndex, value)\n",
    "    \n",
    "    def pop(self, stackNum ):\n",
    "        value = self.buffer[self.stackPointer[stackNum]].value\n",
    "        lastIndex = self.stackPointer[stackNum]\n",
    "        self.stackPointer[stackNum] = self.buffer[self.stackPointer[stackNum]].previous\n",
    "        self.buffer[lastIndex] = 0\n",
    "        self.indexUsed -= 1\n",
    "        return value\n",
    "    \n",
    "    def peek(self, stackNum):\n",
    "        return self.buffer[self.stackPointer[stackNum]].value\n",
    "    \n",
    "    def isEmpty(self,stackNum):\n",
    "        return self.stackPointer[stackNum] == -1\n",
    "        \n",
    "        \n",
    "class StackNode:\n",
    "    def __init__(self,p, v):\n",
    "        self.value = v\n",
    "        self.previous = p\n",
    "        \n",
    "    \n",
    "s3 = threeStacks2(10) \n",
    "s3.push(1,3)\n",
    "s3.push(2,4)\n",
    "s3.push(0,1)\n",
    "print(s3.buffer)\n",
    "print(s3.pop(0))\n",
    "print(s3.isEmpty(0))\n",
    "print(s3.pop(1))\n",
    "print(s3.isEmpty(1))\n",
    "print(s3.buffer, s3.indexUsed, s3.stackPointer)\n",
    "s3.push(1,3)\n",
    "print(s3.buffer, s3.indexUsed, s3.stackPointer)\n",
    "s3.push(2,3)\n",
    "print(s3.buffer, s3.indexUsed, s3.stackPointer)\n"
   ]
  },
  {
   "cell_type": "markdown",
   "metadata": {
    "deletable": true,
    "editable": true
   },
   "source": [
    "# Q3.2 \n",
    "#### How would you design a stack which, in addition to push and pop, also has a function min which returns the minimum element? Push, pop and min should all operate in O(1) time."
   ]
  },
  {
   "cell_type": "code",
   "execution_count": 5,
   "metadata": {
    "collapsed": false,
    "deletable": true,
    "editable": true
   },
   "outputs": [
    {
     "data": {
      "text/plain": [
       "1"
      ]
     },
     "execution_count": 5,
     "metadata": {},
     "output_type": "execute_result"
    }
   ],
   "source": [
    "#using an additional stack which keeps track of the mins.\n",
    "import sys\n",
    "class StackWithMin (Stack):\n",
    "    def __init__(self):\n",
    "        super().__init__()\n",
    "        self.minstack = Stack()\n",
    "      \n",
    "    def push(self, value):\n",
    "        Stack.push(self, value)\n",
    "        if value < self.minvalue():\n",
    "            self.minstack.push(value)\n",
    "            \n",
    "    def pop(self):\n",
    "        value = super().pop()\n",
    "        if value == self.minvalue():\n",
    "            self.minstack.pop()\n",
    "        \n",
    "        \n",
    "    def minvalue(self):\n",
    "        if self.minstack.isEmpty():\n",
    "            return sys.maxsize\n",
    "        \n",
    "        else:\n",
    "            return self.minstack.peek()\n",
    "            \n",
    "            \n",
    "        \n",
    "Smin = StackWithMin()\n",
    "Smin.push(2)\n",
    "Smin.push(3)\n",
    "Smin.push(4)\n",
    "Smin.push(1)\n",
    "Smin.minvalue()   "
   ]
  },
  {
   "cell_type": "markdown",
   "metadata": {
    "deletable": true,
    "editable": true
   },
   "source": [
    "# Q3.3 \n",
    "#### Imagine a (literal) stack of plates. If the stack gets too high, it might topple. Therefore, in real life, we would likely start a new stack when the previous stack exceeds some threshold. Implement a data structure SetOfStacks that mimics this. SetOfStacks should be composed of several stacks, and should create a new stack once the previous one exceeds capacity. SetOfStacks.push() and SetOfStacks.pop() should behave identically to a single stack (that is, pop() should return the same values as it would if there were just a single stack).<br/>FOLLOW UP <br/>Implement a function popAt(int index) which performs a pop operation on a specific sub-stack."
   ]
  },
  {
   "cell_type": "code",
   "execution_count": 6,
   "metadata": {
    "collapsed": false,
    "deletable": true,
    "editable": true
   },
   "outputs": [
    {
     "name": "stdout",
     "output_type": "stream",
     "text": [
      "123\n",
      "456\n",
      "7\n",
      "\n",
      "123\n",
      "457\n",
      "\n",
      "\n"
     ]
    }
   ],
   "source": [
    "class Stack:\n",
    "    def __init__(self):\n",
    "        self.items = []\n",
    "    def __str__(self):\n",
    "    \n",
    "        return \" \".join([str(x)  for x in self.items])\n",
    "        \n",
    "    def reversed_str(self):\n",
    "    \n",
    "        return \" \".join([str(x)  for x in reversed(self.items)])\n",
    "\n",
    "    def isEmpty(self):\n",
    "        return self.items == []\n",
    "\n",
    "    def push(self, item):\n",
    "        self.items.append(item)\n",
    "\n",
    "    def pop(self):\n",
    "        return self.items.pop()\n",
    "\n",
    "    def peek(self):\n",
    "        return self.items[len(self.items)-1]\n",
    "\n",
    "    def size(self):\n",
    "        return len(self.items)\n",
    "    \n",
    "    def removeBottom(self):\n",
    "        return self.items.pop(0)\n",
    "\n",
    "\n",
    "class SetOfStacks:\n",
    "    def __init__(self, capacity):\n",
    "        self.stacks = []\n",
    "        self.capacity = capacity\n",
    "        \n",
    "    def __str__(self):\n",
    "        output = ''\n",
    "        for i in self.stacks:\n",
    "            output += ''.join([str(x) for x in i.items])+'\\n'\n",
    "        return output\n",
    "        \n",
    "    def push(self, value):\n",
    "        stack = self.getLastStack()\n",
    "        if stack.size() >= self.capacity:\n",
    "            stack = Stack()\n",
    "            self.stacks.append(stack)\n",
    "        \n",
    "        stack.push(value)\n",
    "    \n",
    "    def pop(self):\n",
    "        \n",
    "        stack = self.getLastStack()\n",
    "        value = stack.pop()\n",
    "        if stack.size==0:\n",
    "            self.stacks = self.stacks[:-1]\n",
    "        return value\n",
    "\n",
    "        \n",
    "        \n",
    "    def getLastStack(self):\n",
    "\n",
    "        if len(self.stacks)==0:\n",
    "            stack = Stack()\n",
    "            self.stacks.append(stack)\n",
    "            return stack\n",
    "        else:\n",
    "            return self.stacks[-1]\n",
    "        \n",
    "    \n",
    "    def popAt(self, index):\n",
    "        stack = self.stacks[index]\n",
    "        \n",
    "        value = stack.pop()\n",
    "        if stack.isEmpty():\n",
    "            self.stacks.pop(index)\n",
    "            \n",
    "        for i in range(index+1,len(self.stacks)):\n",
    "            stack2 = self.stacks[i]\n",
    "            value = stack2.removeBottom()\n",
    "            stack.push(value)\n",
    "            stack = stack2\n",
    "        \n",
    "    \n",
    "    \n",
    "l = SetOfStacks(3)\n",
    "l.push(1)\n",
    "l.push(2)\n",
    "l.push(3)\n",
    "l.push(4)\n",
    "l.push(5)\n",
    "l.push(6)\n",
    "l.push(7)\n",
    "print(l)\n",
    "\n",
    "l.popAt(1)\n",
    "print(l)\n",
    "        "
   ]
  },
  {
   "cell_type": "markdown",
   "metadata": {},
   "source": [
    "# Q3.4 \n",
    "#### In the classic problem of the Towers of Hanoi, you have 3 rods and N disks of different sizes which can slide onto any tower. The puzzle starts with disks sorted in ascending order of size from top to bottom (e.g., each disk sits on top of an even larger one). You have the following constraints: <br/>(A) Only one disk can be moved at a time.<br/>(B) A disk is slid off the top of one rod onto the next rod.<br/>(C) A disk can only be placed on top of a larger disk.<br/> Write a program to move the disks from the first rod to the last using Stacks."
   ]
  },
  {
   "cell_type": "code",
   "execution_count": 7,
   "metadata": {
    "collapsed": false
   },
   "outputs": [
    {
     "name": "stdout",
     "output_type": "stream",
     "text": [
      "Move disk  1  from  1  to  2\n",
      "Move disk  2  from  1  to  3\n",
      "Move disk  1  from  2  to  3\n",
      "Move disk  3  from  1  to  2\n",
      "Move disk  1  from  3  to  1\n",
      "Move disk  2  from  3  to  2\n",
      "Move disk  1  from  1  to  2\n",
      "Move disk  4  from  1  to  3\n",
      "Move disk  1  from  2  to  3\n",
      "Move disk  2  from  2  to  1\n",
      "Move disk  1  from  3  to  1\n",
      "Move disk  3  from  2  to  3\n",
      "Move disk  1  from  1  to  2\n",
      "Move disk  2  from  1  to  3\n",
      "Move disk  1  from  2  to  3\n",
      "Move disk  5  from  1  to  2\n",
      "Move disk  1  from  3  to  1\n",
      "Move disk  2  from  3  to  2\n",
      "Move disk  1  from  1  to  2\n",
      "Move disk  3  from  3  to  1\n",
      "Move disk  1  from  2  to  3\n",
      "Move disk  2  from  2  to  1\n",
      "Move disk  1  from  3  to  1\n",
      "Move disk  4  from  3  to  2\n",
      "Move disk  1  from  1  to  2\n",
      "Move disk  2  from  1  to  3\n",
      "Move disk  1  from  2  to  3\n",
      "Move disk  3  from  1  to  2\n",
      "Move disk  1  from  3  to  1\n",
      "Move disk  2  from  3  to  2\n",
      "Move disk  1  from  1  to  2\n",
      "Contents of Tower 1\n",
      " \n",
      "Contents of Tower 2\n",
      " 1 2 3 4 5\n",
      "Contents of Tower 3\n",
      " \n"
     ]
    }
   ],
   "source": [
    "class Tower:\n",
    "    def __init__(self, i):\n",
    "        self.index = i\n",
    "        self.disks = Stack()\n",
    "    \n",
    "    def getIndex(self):\n",
    "        return self.index\n",
    "    \n",
    "    def add(self,d):\n",
    "        if (not self.disks.isEmpty() and self.disks.peek() <= d):\n",
    "            print(\"Error placing disk \", d)\n",
    "        else:\n",
    "            self.disks.push(d)\n",
    "        \n",
    "    \n",
    "    def moveTopTo(self,t):\n",
    "        top = self.disks.pop()\n",
    "        t.add(top)\n",
    "        print(\"Move disk \", top , ' from ', self.index, ' to ', t.getIndex())\n",
    "        \n",
    "    def __str__(self):\n",
    "        out = \"Contents of Tower {}\\n \".format(self.index)\n",
    "        out += self.disks.reversed_str()\n",
    "        return out\n",
    "    \n",
    "    def moveDisks(self, n, destination, buffer):\n",
    "        if n>0:\n",
    "            self.moveDisks(n-1, buffer, destination)\n",
    "            self.moveTopTo(destination)\n",
    "            buffer.moveDisks(n-1, destination, self)\n",
    "        \n",
    "t1 = Tower(1)\n",
    "t2 = Tower(2)\n",
    "t3 = Tower(3)\n",
    "t1.add(5)\n",
    "t1.add(4)\n",
    "t1.add(3)\n",
    "t1.add(2)\n",
    "t1.add(1)\n",
    "t1.moveDisks(5,t2, t3)\n",
    "\n",
    "print(t1)\n",
    "print(t2)\n",
    "print(t3)"
   ]
  },
  {
   "cell_type": "markdown",
   "metadata": {},
   "source": [
    "# Q3.5 \n",
    "#### Implement a MyQueue class which implements a queue using two stacks."
   ]
  },
  {
   "cell_type": "code",
   "execution_count": 8,
   "metadata": {
    "collapsed": false
   },
   "outputs": [
    {
     "data": {
      "text/plain": [
       "2"
      ]
     },
     "execution_count": 8,
     "metadata": {},
     "output_type": "execute_result"
    }
   ],
   "source": [
    "class QueueWithStack:\n",
    "    def __init__(self):\n",
    "        self.s1 = Stack()\n",
    "        self.s2 = Stack()\n",
    "    \n",
    "    def size():\n",
    "        return s1.size() + s2.size()\n",
    "    \n",
    "    def add(self, value):\n",
    "        self.s1.push(value)\n",
    "        \n",
    "    def peek(self):\n",
    "        if (not self.s2.isEmpty()):\n",
    "            return self.s2.peek()\n",
    "        else:\n",
    "            while(not self.s1.isEmpty()):\n",
    "                self.s2.push(self.s1.pop())\n",
    "            return self.s2.peek()\n",
    "    \n",
    "    def remove(self):\n",
    "        if (not self.s2.isEmpty()):\n",
    "            self.s2.pop()\n",
    "        else:\n",
    "            while(not self.s1.isEmpty()):\n",
    "                self.s2.push(self.s1.pop())\n",
    "            self.s2.pop()\n",
    "            \n",
    "            \n",
    "q = QueueWithStack()\n",
    "q.add(1)\n",
    "q.add(2)\n",
    "q.add(3)\n",
    "q.add(4)\n",
    "q.peek()\n",
    "q.remove()\n",
    "q.peek()    "
   ]
  },
  {
   "cell_type": "markdown",
   "metadata": {},
   "source": [
    "# Q3.6 \n",
    "#### Write a program to sort a stack in ascending order. You should not make any assumptions about how the stack is implemented. The following are the only functions that should be used to write this program: push | pop | peek | isEmpty.\n"
   ]
  },
  {
   "cell_type": "code",
   "execution_count": 9,
   "metadata": {
    "collapsed": false
   },
   "outputs": [
    {
     "name": "stdout",
     "output_type": "stream",
     "text": [
      "3 4 1 5 2\n",
      "1 2 3 4 5\n"
     ]
    }
   ],
   "source": [
    "def sortStack(s):\n",
    "    r = Stack()\n",
    "    while not s.isEmpty():\n",
    "        tmp = s.pop()\n",
    "        while not r.isEmpty() and r.peek()> tmp:\n",
    "            s.push(r.pop())\n",
    "        r.push(tmp)\n",
    "    return r\n",
    "\n",
    "s =Stack()\n",
    "s.push(3)\n",
    "s.push(4)\n",
    "s.push(1)\n",
    "s.push(5)\n",
    "s.push(2)\n",
    "print(s)\n",
    "    \n",
    "print(sortStack(s))\n",
    "    \n",
    "    "
   ]
  }
 ],
 "metadata": {
  "kernelspec": {
   "display_name": "Python 3",
   "language": "python",
   "name": "python3"
  },
  "language_info": {
   "codemirror_mode": {
    "name": "ipython",
    "version": 3
   },
   "file_extension": ".py",
   "mimetype": "text/x-python",
   "name": "python",
   "nbconvert_exporter": "python",
   "pygments_lexer": "ipython3",
   "version": "3.5.2"
  }
 },
 "nbformat": 4,
 "nbformat_minor": 2
}
